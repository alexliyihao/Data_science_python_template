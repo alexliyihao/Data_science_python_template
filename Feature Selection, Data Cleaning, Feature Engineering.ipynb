{
 "cells": [
  {
   "cell_type": "code",
   "execution_count": 7,
   "metadata": {},
   "outputs": [],
   "source": [
    "import numpy as np\n",
    "import pandas as pd\n",
    "import matplotlib.pyplot as plt\n",
    "import seaborn as sns\n",
    "import scipy as sp\n",
    "\n",
    "sns.set_style(\"darkgrid\")\n",
    "%matplotlib inline"
   ]
  },
  {
   "cell_type": "code",
   "execution_count": 8,
   "metadata": {},
   "outputs": [],
   "source": [
    "from sklearn import datasets\n",
    "#data input, only use two class y_wine = 1 and y_wine = 0\n",
    "wine = datasets.load_wine()\n",
    "X_wine = pd.DataFrame(wine.data,columns=wine.feature_names)\n",
    "y_wine = wine.target\n",
    "X_wine = X_wine.iloc[y_wine < 2]\n",
    "y_wine = y_wine[y_wine < 2]"
   ]
  },
  {
   "cell_type": "code",
   "execution_count": 32,
   "metadata": {},
   "outputs": [],
   "source": [
    "#split the test set and training set\n",
    "from sklearn.model_selection import train_test_split\n",
    "X_train_wine,X_test_wine,y_train_wine,y_test_wine = train_test_split(X_wine,y_wine)"
   ]
  },
  {
   "cell_type": "code",
   "execution_count": 13,
   "metadata": {
    "scrolled": true
   },
   "outputs": [
    {
     "data": {
      "text/plain": [
       "['alcohol',\n",
       " 'malic_acid',\n",
       " 'ash',\n",
       " 'alcalinity_of_ash',\n",
       " 'magnesium',\n",
       " 'total_phenols',\n",
       " 'flavanoids',\n",
       " 'nonflavanoid_phenols',\n",
       " 'proanthocyanins',\n",
       " 'color_intensity',\n",
       " 'hue',\n",
       " 'od280/od315_of_diluted_wines',\n",
       " 'proline']"
      ]
     },
     "execution_count": 13,
     "metadata": {},
     "output_type": "execute_result"
    }
   ],
   "source": [
    "list(X_wine.columns)"
   ]
  },
  {
   "cell_type": "markdown",
   "metadata": {},
   "source": [
    "# Feature Selection"
   ]
  },
  {
   "cell_type": "markdown",
   "metadata": {},
   "source": [
    "## Select by model"
   ]
  },
  {
   "cell_type": "markdown",
   "metadata": {},
   "source": [
    "### logic"
   ]
  },
  {
   "cell_type": "code",
   "execution_count": 27,
   "metadata": {},
   "outputs": [
    {
     "data": {
      "text/plain": [
       "array([[ 0.        ,  0.        ,  0.        ,  0.        ,  0.0634686 ,\n",
       "         0.        ,  0.        ,  0.        ,  0.        ,  0.        ,\n",
       "         0.        ,  0.        , -0.00841464]])"
      ]
     },
     "execution_count": 27,
     "metadata": {},
     "output_type": "execute_result"
    }
   ],
   "source": [
    "from sklearn.linear_model import LogisticRegression\n",
    "logr = LogisticRegression(C=0.01, penalty=\"l1\",solver='liblinear').fit(X_train_wine, y_train_wine)\n",
    "#note here solver cannot be default = lbfgs, lbfgs doesn't take l1\n",
    "logr.coef_"
   ]
  },
  {
   "cell_type": "code",
   "execution_count": 28,
   "metadata": {},
   "outputs": [
    {
     "data": {
      "text/plain": [
       "array([False, False, False, False,  True, False, False, False, False,\n",
       "       False, False, False,  True])"
      ]
     },
     "execution_count": 28,
     "metadata": {},
     "output_type": "execute_result"
    }
   ],
   "source": [
    "logr.coef_[0] != 0"
   ]
  },
  {
   "cell_type": "code",
   "execution_count": 31,
   "metadata": {
    "scrolled": true
   },
   "outputs": [
    {
     "data": {
      "text/plain": [
       "['magnesium', 'proline']"
      ]
     },
     "execution_count": 31,
     "metadata": {},
     "output_type": "execute_result"
    }
   ],
   "source": [
    "list(X_wine.columns[logr.coef_[0] != 0])"
   ]
  },
  {
   "cell_type": "markdown",
   "metadata": {},
   "source": [
    "### in sklearn version it's:"
   ]
  },
  {
   "cell_type": "code",
   "execution_count": 33,
   "metadata": {},
   "outputs": [],
   "source": [
    "# Using sklearn\n",
    "from sklearn.feature_selection import SelectFromModel\n",
    "sfm = SelectFromModel(logr, prefit=True)"
   ]
  },
  {
   "cell_type": "code",
   "execution_count": 34,
   "metadata": {},
   "outputs": [
    {
     "data": {
      "text/plain": [
       "array([False, False, False, False,  True, False, False, False, False,\n",
       "       False, False, False,  True])"
      ]
     },
     "execution_count": 34,
     "metadata": {},
     "output_type": "execute_result"
    }
   ],
   "source": [
    "sfm.get_support()"
   ]
  },
  {
   "cell_type": "code",
   "execution_count": 35,
   "metadata": {},
   "outputs": [
    {
     "data": {
      "text/plain": [
       "['magnesium', 'proline']"
      ]
     },
     "execution_count": 35,
     "metadata": {},
     "output_type": "execute_result"
    }
   ],
   "source": [
    "list(X_wine.columns[sfm.get_support()])"
   ]
  },
  {
   "cell_type": "markdown",
   "metadata": {},
   "source": [
    "### similarly"
   ]
  },
  {
   "cell_type": "code",
   "execution_count": 37,
   "metadata": {},
   "outputs": [],
   "source": [
    "from sklearn.ensemble import RandomForestClassifier\n",
    "sfm = SelectFromModel(RandomForestClassifier(),threshold='mean')\\\n",
    "        .fit(X_train_wine,y_train_wine)"
   ]
  },
  {
   "cell_type": "code",
   "execution_count": 38,
   "metadata": {},
   "outputs": [
    {
     "data": {
      "text/plain": [
       "['alcohol', 'flavanoids', 'color_intensity', 'proline']"
      ]
     },
     "execution_count": 38,
     "metadata": {},
     "output_type": "execute_result"
    }
   ],
   "source": [
    "list(X_wine.columns[sfm.get_support()])"
   ]
  },
  {
   "cell_type": "code",
   "execution_count": 40,
   "metadata": {},
   "outputs": [
    {
     "data": {
      "text/plain": [
       "[('proline', 0.25991712467951644),\n",
       " ('alcohol', 0.21015619453558848),\n",
       " ('color_intensity', 0.1720127876917202),\n",
       " ('flavanoids', 0.10872475475695959),\n",
       " ('total_phenols', 0.07355218596195501),\n",
       " ('magnesium', 0.04990716003538094),\n",
       " ('alcalinity_of_ash', 0.04702060401373059),\n",
       " ('od280/od315_of_diluted_wines', 0.027277888293350712),\n",
       " ('malic_acid', 0.017553819307157475),\n",
       " ('hue', 0.010248087648010308),\n",
       " ('ash', 0.00991348561262535),\n",
       " ('nonflavanoid_phenols', 0.007305510010067328),\n",
       " ('proanthocyanins', 0.006410397453937587)]"
      ]
     },
     "execution_count": 40,
     "metadata": {},
     "output_type": "execute_result"
    }
   ],
   "source": [
    "sorted(zip(X_wine.columns,sfm.estimator_.feature_importances_),\n",
    "       key=lambda x:x[1],\n",
    "       reverse=True)"
   ]
  },
  {
   "cell_type": "markdown",
   "metadata": {},
   "source": [
    "## By Variance"
   ]
  },
  {
   "cell_type": "code",
   "execution_count": 41,
   "metadata": {},
   "outputs": [],
   "source": [
    "# add feature with 0 variation for demo\n",
    "tmp_X = X_train_wine.copy()\n",
    "tmp_X['bad_feature'] = 1"
   ]
  },
  {
   "cell_type": "code",
   "execution_count": 42,
   "metadata": {},
   "outputs": [],
   "source": [
    "from sklearn.feature_selection import VarianceThreshold\n",
    "# Note: No y in the fit!\n",
    "vt = VarianceThreshold(threshold=0).fit(tmp_X)"
   ]
  },
  {
   "cell_type": "code",
   "execution_count": 46,
   "metadata": {},
   "outputs": [
    {
     "data": {
      "text/plain": [
       "array([ True,  True,  True,  True,  True,  True,  True,  True,  True,\n",
       "        True,  True,  True,  True, False])"
      ]
     },
     "execution_count": 46,
     "metadata": {},
     "output_type": "execute_result"
    }
   ],
   "source": [
    "vt.get_support()"
   ]
  },
  {
   "cell_type": "code",
   "execution_count": 44,
   "metadata": {},
   "outputs": [
    {
     "data": {
      "text/plain": [
       "['bad_feature']"
      ]
     },
     "execution_count": 44,
     "metadata": {},
     "output_type": "execute_result"
    }
   ],
   "source": [
    "list(tmp_X.columns[~vt.get_support()])"
   ]
  },
  {
   "cell_type": "markdown",
   "metadata": {},
   "source": [
    "## Univariate"
   ]
  },
  {
   "cell_type": "markdown",
   "metadata": {},
   "source": [
    "Perform statistical test on one feature independent of all others  \n",
    "Rank and select top k features  \n",
    "sklearn: SelectKBest  \n",
    "requires a scoring function  \n",
    "  \n",
    "Example: Chi Squared for classification: chi  \n",
    "measures dependence between stochastic variables  \n",
    "finds features least likely to be independent of class  \n",
    "requires non-negative features  \n",
    "  \n",
    "There's also F-test (f_regression, f_classif) captures linear dependency between feature and target  \n",
    "And Mutual Information: captures non-parametric statistical dependency\n",
    "(mutual_info_regression, mutual_info_classif)"
   ]
  },
  {
   "cell_type": "code",
   "execution_count": 58,
   "metadata": {},
   "outputs": [
    {
     "data": {
      "text/plain": [
       "['color_intensity', 'proline']"
      ]
     },
     "execution_count": 58,
     "metadata": {},
     "output_type": "execute_result"
    }
   ],
   "source": [
    "from sklearn.feature_selection import SelectKBest, chi2\n",
    "# select 2 best features\n",
    "kbest = SelectKBest(chi2, k=2).fit(X_train_wine, y_train_wine)\n",
    "\n",
    "list(X_wine.columns[kbest.get_support()])"
   ]
  },
  {
   "cell_type": "code",
   "execution_count": 59,
   "metadata": {},
   "outputs": [
    {
     "data": {
      "text/plain": [
       "[('proline', 0.0),\n",
       " ('color_intensity', 1.1400629301410466e-09),\n",
       " ('magnesium', 4.868593238299848e-09),\n",
       " ('alcalinity_of_ash', 3.923382156650546e-05),\n",
       " ('flavanoids', 0.0017497971958860875),\n",
       " ('total_phenols', 0.028403834426765532),\n",
       " ('alcohol', 0.05047097001432929),\n",
       " ('od280/od315_of_diluted_wines', 0.20701374831466315),\n",
       " ('proanthocyanins', 0.31895776422444183),\n",
       " ('nonflavanoid_phenols', 0.47086275519899745),\n",
       " ('ash', 0.5471650894229585),\n",
       " ('malic_acid', 0.7258567319126681),\n",
       " ('hue', 0.9728231707470182)]"
      ]
     },
     "execution_count": 59,
     "metadata": {},
     "output_type": "execute_result"
    }
   ],
   "source": [
    "# Sort features by likelihood of independence from class\n",
    "sorted(zip(X_wine.columns,kbest.pvalues_),key=lambda x:x[1])\n",
    "#note it's pvalue, there's no reverse = True"
   ]
  },
  {
   "cell_type": "code",
   "execution_count": 60,
   "metadata": {},
   "outputs": [
    {
     "data": {
      "text/plain": [
       "2"
      ]
     },
     "execution_count": 60,
     "metadata": {},
     "output_type": "execute_result"
    }
   ],
   "source": [
    "# select keep only selected features\n",
    "X_new = kbest.transform(X_train_wine)\n",
    "X_new.shape[1]"
   ]
  },
  {
   "cell_type": "markdown",
   "metadata": {},
   "source": [
    "## Recursive"
   ]
  },
  {
   "cell_type": "markdown",
   "metadata": {},
   "source": [
    "Would like to test all possible combinations of features  \n",
    "Likely prohibitively expensive(?)  \n",
    "Instead recursively select smaller subsets of features  \n",
    "  \n",
    "coef_ / feature_importances_\n",
    "  \n",
    "Repeat until:  \n",
    "1. requested number of features remain\n",
    "2. achieve optimal score  \n",
    "\n",
    "sklearn: RFE and RFECV"
   ]
  },
  {
   "cell_type": "code",
   "execution_count": 61,
   "metadata": {},
   "outputs": [
    {
     "data": {
      "text/plain": [
       "['alcohol', 'color_intensity', 'proline']"
      ]
     },
     "execution_count": 61,
     "metadata": {},
     "output_type": "execute_result"
    }
   ],
   "source": [
    "from sklearn.feature_selection import RFE\n",
    "rfe = RFE(RandomForestClassifier(), 3, step=1).fit(X_train_wine,y_train_wine)\n",
    "list(X_wine.columns[rfe.support_])"
   ]
  },
  {
   "cell_type": "code",
   "execution_count": 62,
   "metadata": {},
   "outputs": [
    {
     "data": {
      "text/plain": [
       "[('alcohol', 1),\n",
       " ('color_intensity', 1),\n",
       " ('proline', 1),\n",
       " ('flavanoids', 2),\n",
       " ('total_phenols', 3),\n",
       " ('magnesium', 4),\n",
       " ('alcalinity_of_ash', 5),\n",
       " ('malic_acid', 6),\n",
       " ('od280/od315_of_diluted_wines', 7),\n",
       " ('proanthocyanins', 8),\n",
       " ('ash', 9),\n",
       " ('nonflavanoid_phenols', 10),\n",
       " ('hue', 11)]"
      ]
     },
     "execution_count": 62,
     "metadata": {},
     "output_type": "execute_result"
    }
   ],
   "source": [
    "sorted(zip(X_wine.columns,rfe.ranking_),key=lambda x: x[1])"
   ]
  },
  {
   "cell_type": "markdown",
   "metadata": {},
   "source": [
    "# Data Cleaning"
   ]
  },
  {
   "cell_type": "markdown",
   "metadata": {},
   "source": [
    "Why do we need clean data?\n",
    "1. Want one row per observation (remove duplicates)\n",
    "2. Most models cannot handle missing data (remove/fill missing)\n",
    "3. Most models require fixed length feature vectors (engineer features)"
   ]
  },
  {
   "cell_type": "markdown",
   "metadata": {},
   "source": [
    "Different models require different types of data (transformation)\n",
    "1. Linear models: real valued features with similar scale\n",
    "2. Distance based: real valued features with similar scale\n",
    "3. Tree based: can handle real and categorical"
   ]
  },
  {
   "cell_type": "code",
   "execution_count": 90,
   "metadata": {},
   "outputs": [],
   "source": [
    "# read in example data\n",
    "df_shop = pd.read_csv('flowershop_data.csv',\n",
    "                      header=0,\n",
    "                      parse_dates=['purchase_date'],\n",
    "                      delimiter=',')"
   ]
  },
  {
   "cell_type": "markdown",
   "metadata": {},
   "source": [
    "## Duplicates"
   ]
  },
  {
   "cell_type": "code",
   "execution_count": 79,
   "metadata": {},
   "outputs": [],
   "source": [
    "#if there is a unique id per row\n",
    "df_new = df_shop.drop_duplicates(subset=None   # consider subset of columns\n",
    "                                 ,keep='first' # or last/False)\n",
    "                                 ,inplace=False)\n",
    "# or can use inplace to change the original dataframe, \n",
    "# inplace = True works on the original dataset, \n",
    "df_shop.drop_duplicates(subset=None,keep='first',inplace=True)"
   ]
  },
  {
   "cell_type": "markdown",
   "metadata": {},
   "source": [
    "## Missing Data"
   ]
  },
  {
   "cell_type": "markdown",
   "metadata": {},
   "source": [
    "Dealing with missing data\n",
    "\n",
    "1. Drop rows\n",
    "2. Fill with chosen value\n",
    "3. Fill with adjacent data\n",
    "4. Infer from other features"
   ]
  },
  {
   "cell_type": "code",
   "execution_count": 80,
   "metadata": {
    "scrolled": true
   },
   "outputs": [
    {
     "name": "stdout",
     "output_type": "stream",
     "text": [
      "<class 'pandas.core.frame.DataFrame'>\n",
      "Int64Index: 1000 entries, 0 to 1001\n",
      "Data columns (total 6 columns):\n",
      "PurchaseID         1000 non-null int64\n",
      "lastname           1000 non-null object\n",
      "purchase_date      1000 non-null datetime64[ns]\n",
      "stars              1000 non-null int64\n",
      "price              978 non-null float64\n",
      "favorite_flower    822 non-null object\n",
      "dtypes: datetime64[ns](1), float64(1), int64(2), object(2)\n",
      "memory usage: 54.7+ KB\n"
     ]
    }
   ],
   "source": [
    "df_shop.info()"
   ]
  },
  {
   "cell_type": "code",
   "execution_count": 81,
   "metadata": {},
   "outputs": [
    {
     "data": {
      "text/plain": [
       "0    False\n",
       "1    False\n",
       "Name: price, dtype: bool"
      ]
     },
     "execution_count": 81,
     "metadata": {},
     "output_type": "execute_result"
    }
   ],
   "source": [
    "# isna returns True where data is missing, False otherwise\n",
    "df_shop.price.isna().head(2) # or .isnull()"
   ]
  },
  {
   "cell_type": "code",
   "execution_count": 82,
   "metadata": {},
   "outputs": [
    {
     "data": {
      "text/plain": [
       "0    True\n",
       "1    True\n",
       "Name: price, dtype: bool"
      ]
     },
     "execution_count": 82,
     "metadata": {},
     "output_type": "execute_result"
    }
   ],
   "source": [
    "# notna returns True where data is not missing, False otherwise\n",
    "df_shop.price.notna().head(2)"
   ]
  },
  {
   "cell_type": "code",
   "execution_count": 83,
   "metadata": {
    "scrolled": false
   },
   "outputs": [
    {
     "data": {
      "text/html": [
       "<div>\n",
       "<style scoped>\n",
       "    .dataframe tbody tr th:only-of-type {\n",
       "        vertical-align: middle;\n",
       "    }\n",
       "\n",
       "    .dataframe tbody tr th {\n",
       "        vertical-align: top;\n",
       "    }\n",
       "\n",
       "    .dataframe thead th {\n",
       "        text-align: right;\n",
       "    }\n",
       "</style>\n",
       "<table border=\"1\" class=\"dataframe\">\n",
       "  <thead>\n",
       "    <tr style=\"text-align: right;\">\n",
       "      <th></th>\n",
       "      <th>PurchaseID</th>\n",
       "      <th>lastname</th>\n",
       "      <th>purchase_date</th>\n",
       "      <th>stars</th>\n",
       "      <th>price</th>\n",
       "      <th>favorite_flower</th>\n",
       "    </tr>\n",
       "  </thead>\n",
       "  <tbody>\n",
       "    <tr>\n",
       "      <th>22</th>\n",
       "      <td>121</td>\n",
       "      <td>CLARK</td>\n",
       "      <td>2017-01-05</td>\n",
       "      <td>3</td>\n",
       "      <td>NaN</td>\n",
       "      <td>NaN</td>\n",
       "    </tr>\n",
       "    <tr>\n",
       "      <th>43</th>\n",
       "      <td>142</td>\n",
       "      <td>PETERS</td>\n",
       "      <td>2017-02-01</td>\n",
       "      <td>4</td>\n",
       "      <td>NaN</td>\n",
       "      <td>orchid</td>\n",
       "    </tr>\n",
       "    <tr>\n",
       "      <th>56</th>\n",
       "      <td>155</td>\n",
       "      <td>GREEN</td>\n",
       "      <td>2017-02-13</td>\n",
       "      <td>5</td>\n",
       "      <td>NaN</td>\n",
       "      <td>daffodil</td>\n",
       "    </tr>\n",
       "    <tr>\n",
       "      <th>65</th>\n",
       "      <td>164</td>\n",
       "      <td>BARNETT</td>\n",
       "      <td>2017-08-27</td>\n",
       "      <td>4</td>\n",
       "      <td>NaN</td>\n",
       "      <td>gardenia</td>\n",
       "    </tr>\n",
       "    <tr>\n",
       "      <th>147</th>\n",
       "      <td>246</td>\n",
       "      <td>CARROLL</td>\n",
       "      <td>2017-07-29</td>\n",
       "      <td>3</td>\n",
       "      <td>NaN</td>\n",
       "      <td>tulip</td>\n",
       "    </tr>\n",
       "  </tbody>\n",
       "</table>\n",
       "</div>"
      ],
      "text/plain": [
       "     PurchaseID lastname purchase_date  stars  price favorite_flower\n",
       "22          121    CLARK    2017-01-05      3    NaN             NaN\n",
       "43          142   PETERS    2017-02-01      4    NaN          orchid\n",
       "56          155    GREEN    2017-02-13      5    NaN        daffodil\n",
       "65          164  BARNETT    2017-08-27      4    NaN        gardenia\n",
       "147         246  CARROLL    2017-07-29      3    NaN           tulip"
      ]
     },
     "execution_count": 83,
     "metadata": {},
     "output_type": "execute_result"
    }
   ],
   "source": [
    "# find rows where price is missing\n",
    "df_shop[df_shop.price.isna()].head()"
   ]
  },
  {
   "cell_type": "markdown",
   "metadata": {},
   "source": [
    "### Drop Rows"
   ]
  },
  {
   "cell_type": "code",
   "execution_count": 74,
   "metadata": {},
   "outputs": [
    {
     "data": {
      "text/plain": [
       "(1000, 6)"
      ]
     },
     "execution_count": 74,
     "metadata": {},
     "output_type": "execute_result"
    }
   ],
   "source": [
    "df_shop.shape"
   ]
  },
  {
   "cell_type": "code",
   "execution_count": 85,
   "metadata": {},
   "outputs": [
    {
     "data": {
      "text/plain": [
       "(802, 6)"
      ]
     },
     "execution_count": 85,
     "metadata": {},
     "output_type": "execute_result"
    }
   ],
   "source": [
    "# drop rows with nan in any column\n",
    "df_shop.dropna().shape"
   ]
  },
  {
   "cell_type": "code",
   "execution_count": 77,
   "metadata": {},
   "outputs": [
    {
     "data": {
      "text/plain": [
       "(978, 6)"
      ]
     },
     "execution_count": 77,
     "metadata": {},
     "output_type": "execute_result"
    }
   ],
   "source": [
    "# drop only rows with nan in price using subset\n",
    "df_shop.dropna(subset=['price']).shape"
   ]
  },
  {
   "cell_type": "code",
   "execution_count": 78,
   "metadata": {},
   "outputs": [
    {
     "data": {
      "text/plain": [
       "(1000, 6)"
      ]
     },
     "execution_count": 78,
     "metadata": {},
     "output_type": "execute_result"
    }
   ],
   "source": [
    "# drop only rows with nans in all columns\n",
    "df_shop.dropna(how='all').shape"
   ]
  },
  {
   "cell_type": "code",
   "execution_count": 86,
   "metadata": {},
   "outputs": [
    {
     "data": {
      "text/plain": [
       "(802, 6)"
      ]
     },
     "execution_count": 86,
     "metadata": {},
     "output_type": "execute_result"
    }
   ],
   "source": [
    "# save a new dataframe with dropped rows\n",
    "df_new = df_shop.dropna()\n",
    "df_new.shape"
   ]
  },
  {
   "cell_type": "code",
   "execution_count": 87,
   "metadata": {},
   "outputs": [
    {
     "data": {
      "text/plain": [
       "(802, 6)"
      ]
     },
     "execution_count": 87,
     "metadata": {},
     "output_type": "execute_result"
    }
   ],
   "source": [
    "# drop rows in current dataframe\n",
    "df_new = df_shop.copy()\n",
    "df_new.dropna(inplace=True)\n",
    "df_new.shape\n"
   ]
  },
  {
   "cell_type": "code",
   "execution_count": 88,
   "metadata": {},
   "outputs": [
    {
     "data": {
      "text/plain": [
       "200"
      ]
     },
     "execution_count": 88,
     "metadata": {},
     "output_type": "execute_result"
    }
   ],
   "source": [
    "# How many total nan's?\n",
    "df_shop.isna().sum().sum()\n",
    "#note it's a 2-d sum"
   ]
  },
  {
   "cell_type": "markdown",
   "metadata": {},
   "source": [
    "### Fill with Chosen Value"
   ]
  },
  {
   "cell_type": "code",
   "execution_count": 91,
   "metadata": {},
   "outputs": [
    {
     "data": {
      "text/plain": [
       "73.41423815488066"
      ]
     },
     "execution_count": 91,
     "metadata": {},
     "output_type": "execute_result"
    }
   ],
   "source": [
    "df_shop.price.mean()"
   ]
  },
  {
   "cell_type": "code",
   "execution_count": 92,
   "metadata": {},
   "outputs": [],
   "source": [
    "# make a copy to keep our original df\n",
    "df_new = df_shop.copy()"
   ]
  },
  {
   "cell_type": "code",
   "execution_count": 93,
   "metadata": {},
   "outputs": [],
   "source": [
    "# fill missing price with mean of price\n",
    "df_new.price = df_shop.price.fillna(df_shop.price.mean())"
   ]
  },
  {
   "cell_type": "code",
   "execution_count": 94,
   "metadata": {},
   "outputs": [
    {
     "data": {
      "text/plain": [
       "0"
      ]
     },
     "execution_count": 94,
     "metadata": {},
     "output_type": "execute_result"
    }
   ],
   "source": [
    "# check to make sure all nulls filled\n",
    "sum(df_new.price.isna())"
   ]
  },
  {
   "cell_type": "code",
   "execution_count": 96,
   "metadata": {},
   "outputs": [],
   "source": [
    "# inplace works here as well\n",
    "df_new.price.fillna(df_new.price.mean(),inplace=True)"
   ]
  },
  {
   "cell_type": "markdown",
   "metadata": {},
   "source": [
    "### Adjacent Data"
   ]
  },
  {
   "cell_type": "markdown",
   "metadata": {},
   "source": [
    "Use .fillna() with method:\n",
    "1. ffill: propagate last valid observation forward to next valid\n",
    "2. bfill: use next valid observation to fill gap backwards  \n",
    "\n",
    "Use when there is reason to believe data not i.i.d. (eg: stock price)"
   ]
  },
  {
   "cell_type": "code",
   "execution_count": 97,
   "metadata": {},
   "outputs": [],
   "source": [
    "df_new['price'] = df_shop.price.fillna(method='ffill')"
   ]
  },
  {
   "cell_type": "markdown",
   "metadata": {},
   "source": [
    "###  By Infer"
   ]
  },
  {
   "cell_type": "markdown",
   "metadata": {},
   "source": [
    "Can treat any feature in your data as a label  \n",
    "Predict values of missing features using a model  \n",
    "Ex: Can we predict price based on any of the other features?  \n",
    "Additional feature engineering may be needed prior to this"
   ]
  },
  {
   "cell_type": "markdown",
   "metadata": {},
   "source": [
    "## Dummy Variables"
   ]
  },
  {
   "cell_type": "markdown",
   "metadata": {},
   "source": [
    "Data may be missing for a reason, capture \"missing\" before filling.  "
   ]
  },
  {
   "cell_type": "code",
   "execution_count": 98,
   "metadata": {},
   "outputs": [],
   "source": [
    "# storing a column of 1:missing, 0:not-missing\n",
    "df_new['price_isnull'] = df_shop.price.isna().astype(int)"
   ]
  },
  {
   "cell_type": "code",
   "execution_count": 99,
   "metadata": {},
   "outputs": [],
   "source": [
    "# can now fill missing values\n",
    "df_new['price'] = df_shop.price.fillna(df_shop.price.mean())"
   ]
  },
  {
   "cell_type": "markdown",
   "metadata": {},
   "source": [
    "## Rescaling"
   ]
  },
  {
   "cell_type": "markdown",
   "metadata": {},
   "source": [
    "Methods of rescaling\n",
    "\n",
    "1. Standardization (Variance scaling)\n",
    "2. Min-Max rescaling\n",
    "\n",
    "others..."
   ]
  },
  {
   "cell_type": "code",
   "execution_count": 100,
   "metadata": {},
   "outputs": [],
   "source": [
    "# load taxi data\n",
    "taxi = pd.read_csv('yellow_tripdata_2017-01_subset10000rows.csv',\n",
    "                parse_dates=['tpep_pickup_datetime','tpep_dropoff_datetime'])\n",
    "# create trip_duration\n",
    "taxi['trip_duration'] = (taxi.tpep_dropoff_datetime - taxi.tpep_pickup_datetime).dt.seconds\n",
    "# select subset\n",
    "df_taxi = taxi[(taxi.trip_duration < 3600) & (taxi.tip_amount > 0) & (taxi.tip_amount < 10)]"
   ]
  },
  {
   "cell_type": "markdown",
   "metadata": {},
   "source": [
    "### Standardization"
   ]
  },
  {
   "cell_type": "code",
   "execution_count": 101,
   "metadata": {},
   "outputs": [
    {
     "data": {
      "text/html": [
       "<div>\n",
       "<style scoped>\n",
       "    .dataframe tbody tr th:only-of-type {\n",
       "        vertical-align: middle;\n",
       "    }\n",
       "\n",
       "    .dataframe tbody tr th {\n",
       "        vertical-align: top;\n",
       "    }\n",
       "\n",
       "    .dataframe thead th {\n",
       "        text-align: right;\n",
       "    }\n",
       "</style>\n",
       "<table border=\"1\" class=\"dataframe\">\n",
       "  <thead>\n",
       "    <tr style=\"text-align: right;\">\n",
       "      <th></th>\n",
       "      <th>trip_duration</th>\n",
       "      <th>tip_amount</th>\n",
       "    </tr>\n",
       "  </thead>\n",
       "  <tbody>\n",
       "    <tr>\n",
       "      <th>count</th>\n",
       "      <td>6225.000000</td>\n",
       "      <td>6225.000000</td>\n",
       "    </tr>\n",
       "    <tr>\n",
       "      <th>mean</th>\n",
       "      <td>765.030683</td>\n",
       "      <td>2.405944</td>\n",
       "    </tr>\n",
       "    <tr>\n",
       "      <th>std</th>\n",
       "      <td>496.831608</td>\n",
       "      <td>1.552848</td>\n",
       "    </tr>\n",
       "    <tr>\n",
       "      <th>min</th>\n",
       "      <td>2.000000</td>\n",
       "      <td>0.010000</td>\n",
       "    </tr>\n",
       "    <tr>\n",
       "      <th>25%</th>\n",
       "      <td>402.000000</td>\n",
       "      <td>1.360000</td>\n",
       "    </tr>\n",
       "    <tr>\n",
       "      <th>50%</th>\n",
       "      <td>650.000000</td>\n",
       "      <td>2.000000</td>\n",
       "    </tr>\n",
       "    <tr>\n",
       "      <th>75%</th>\n",
       "      <td>1006.000000</td>\n",
       "      <td>2.950000</td>\n",
       "    </tr>\n",
       "    <tr>\n",
       "      <th>max</th>\n",
       "      <td>3556.000000</td>\n",
       "      <td>9.990000</td>\n",
       "    </tr>\n",
       "  </tbody>\n",
       "</table>\n",
       "</div>"
      ],
      "text/plain": [
       "       trip_duration   tip_amount\n",
       "count    6225.000000  6225.000000\n",
       "mean      765.030683     2.405944\n",
       "std       496.831608     1.552848\n",
       "min         2.000000     0.010000\n",
       "25%       402.000000     1.360000\n",
       "50%       650.000000     2.000000\n",
       "75%      1006.000000     2.950000\n",
       "max      3556.000000     9.990000"
      ]
     },
     "execution_count": 101,
     "metadata": {},
     "output_type": "execute_result"
    }
   ],
   "source": [
    "df_taxi[['trip_duration','tip_amount']].describe()"
   ]
  },
  {
   "cell_type": "code",
   "execution_count": 105,
   "metadata": {},
   "outputs": [
    {
     "data": {
      "text/plain": [
       "array([[-0.50127786, -0.48040987],\n",
       "       [-0.16512088, -0.90546941],\n",
       "       [ 0.13882945,  0.92357466]])"
      ]
     },
     "execution_count": 105,
     "metadata": {},
     "output_type": "execute_result"
    }
   ],
   "source": [
    "# StandardScaler use original data - data.mean / data.std\n",
    "from sklearn.preprocessing import StandardScaler\n",
    "# instantiate\n",
    "ss = StandardScaler()\n",
    "# fit to the data\n",
    "ss.fit(df_taxi[['trip_duration','tip_amount']])\n",
    "# transform the data\n",
    "X = ss.transform(df_taxi[['trip_duration','tip_amount']])\n",
    "X[:3]"
   ]
  },
  {
   "cell_type": "code",
   "execution_count": 106,
   "metadata": {},
   "outputs": [
    {
     "name": "stdout",
     "output_type": "stream",
     "text": [
      "       trip_duration_scaled  tip_amount_scaled\n",
      "count          6.225000e+03       6.225000e+03\n",
      "mean           4.622808e-17      -1.358307e-16\n",
      "std            1.000080e+00       1.000080e+00\n",
      "min           -1.535917e+00      -1.543059e+00\n",
      "25%           -7.307503e-01      -6.736188e-01\n",
      "50%           -2.315471e-01      -2.614398e-01\n",
      "75%            4.850510e-01       3.503883e-01\n",
      "max            5.617987e+00       4.884357e+00\n"
     ]
    }
   ],
   "source": [
    "df_new = pd.DataFrame(X,columns=['trip_duration_scaled','tip_amount_scaled'])\n",
    "print(df_new.describe())"
   ]
  },
  {
   "cell_type": "code",
   "execution_count": 107,
   "metadata": {},
   "outputs": [
    {
     "data": {
      "text/plain": [
       "array([[-0.50127786, -0.48040987],\n",
       "       [-0.16512088, -0.90546941],\n",
       "       [ 0.13882945,  0.92357466]])"
      ]
     },
     "execution_count": 107,
     "metadata": {},
     "output_type": "execute_result"
    }
   ],
   "source": [
    "# can also fit and transform at the same time\n",
    "X = StandardScaler().fit_transform(df_taxi[['trip_duration','tip_amount']])\n",
    "X[:3]"
   ]
  },
  {
   "cell_type": "markdown",
   "metadata": {},
   "source": [
    "### Min-max rescaling"
   ]
  },
  {
   "cell_type": "markdown",
   "metadata": {},
   "source": [
    "rescale values between 0 and 1\n",
    "\n",
    "X_scaled = (X - X.min()) / (X.max() - X.min())\n",
    "\n",
    "1. preserves 0\n",
    "2. removes negative values"
   ]
  },
  {
   "cell_type": "code",
   "execution_count": 108,
   "metadata": {},
   "outputs": [
    {
     "name": "stdout",
     "output_type": "stream",
     "text": [
      "       trip_duration_scaled  tip_amount_scaled\n",
      "count           6225.000000        6225.000000\n",
      "mean               0.214696           0.240075\n",
      "std                0.139795           0.155596\n",
      "min                0.000000           0.000000\n",
      "25%                0.112549           0.135271\n",
      "50%                0.182330           0.199399\n",
      "75%                0.282499           0.294589\n",
      "max                1.000000           1.000000\n"
     ]
    }
   ],
   "source": [
    "from sklearn.preprocessing import MinMaxScaler\n",
    "X = MinMaxScaler().fit_transform(df_taxi[['trip_duration','tip_amount']])\n",
    "df_new = pd.DataFrame(X,columns=['trip_duration_scaled','tip_amount_scaled'])\n",
    "print(df_new.describe())"
   ]
  },
  {
   "cell_type": "markdown",
   "metadata": {},
   "source": [
    "## Dealing with Skew"
   ]
  },
  {
   "cell_type": "markdown",
   "metadata": {},
   "source": [
    "Many models expect \"normal\", symmetric data (ex: linear models)  \n",
    "Highly skewed: tail has larger effect on model (outliers?)  \n",
    "Transform with log or sqrt  "
   ]
  },
  {
   "cell_type": "code",
   "execution_count": 109,
   "metadata": {},
   "outputs": [
    {
     "data": {
      "image/png": "[encoded data removed]",
      "text/plain": [
       "<Figure size 864x288 with 3 Axes>"
      ]
     },
     "metadata": {
      "needs_background": "light"
     },
     "output_type": "display_data"
    }
   ],
   "source": [
    "fig,ax = plt.subplots(1,3,figsize=(12,4))\n",
    "sns.distplot(df_taxi.total_amount, ax=ax[0]);\n",
    "sns.distplot(df_taxi.total_amount.apply(np.sqrt), ax=ax[1]); ax[1].set_xlabel('sqrt transform');\n",
    "sns.distplot(df_taxi.total_amount.apply(np.log),  ax=ax[2]); ax[2].set_xlabel('log transform');"
   ]
  },
  {
   "cell_type": "markdown",
   "metadata": {},
   "source": [
    "## Removing Outliers"
   ]
  },
  {
   "cell_type": "markdown",
   "metadata": {},
   "source": [
    "Similar to missing data:\n",
    "1. human data entry error\n",
    "2. instrument measurement errors\n",
    "3. data processing errors\n",
    "4. natural deviations"
   ]
  },
  {
   "cell_type": "markdown",
   "metadata": {},
   "source": [
    "Why worry about them?\n",
    "\n",
    "1. can throw off analysis\n",
    "2. can indicate issues\n",
    "\n",
    "Detecting Outliers\n",
    "\n",
    "1. understand your data!\n",
    "2. visualizations\n",
    "3. z-scores"
   ]
  },
  {
   "cell_type": "code",
   "execution_count": 110,
   "metadata": {},
   "outputs": [
    {
     "data": {
      "image/png": "[encoded data removed]",
      "text/plain": [
       "<Figure size 720x360 with 2 Axes>"
      ]
     },
     "metadata": {
      "needs_background": "light"
     },
     "output_type": "display_data"
    }
   ],
   "source": [
    "df = pd.DataFrame(np.random.normal(50,20,1000), columns=['measure'])\n",
    "df = df.append(pd.DataFrame(np.random.normal(120,1,20), columns=['measure']))\n",
    "fig,ax = plt.subplots(1,2, figsize=(10,5))\n",
    "sns.distplot(df.measure,ax=ax[0]);\n",
    "sns.boxplot(df.measure,ax=ax[1]);"
   ]
  },
  {
   "cell_type": "code",
   "execution_count": 111,
   "metadata": {},
   "outputs": [
    {
     "data": {
      "image/png": "[encoded data removed]",
      "text/plain": [
       "<Figure size 864x288 with 3 Axes>"
      ]
     },
     "metadata": {
      "needs_background": "light"
     },
     "output_type": "display_data"
    }
   ],
   "source": [
    "# zscore\n",
    "df['measure_zscore'] = (df.measure - df.measure.mean()) / df.measure.std()\n",
    "fig, ax = plt.subplots(1,3,figsize=(12,4))\n",
    "sns.distplot(df.measure,ax=ax[0]);\n",
    "sns.distplot(df.measure_zscore, ax=ax[1]);\n",
    "keep_idx = np.abs(df.measure_zscore) < 2\n",
    "sns.distplot(df[keep_idx].measure_zscore, ax=ax[2]);"
   ]
  },
  {
   "cell_type": "markdown",
   "metadata": {},
   "source": [
    "Dealing with Outliers\n",
    "1. drop data\n",
    "2. treat as missing"
   ]
  },
  {
   "cell_type": "markdown",
   "metadata": {},
   "source": [
    "# Feature Engineering"
   ]
  },
  {
   "cell_type": "markdown",
   "metadata": {},
   "source": [
    "### Binning"
   ]
  },
  {
   "cell_type": "markdown",
   "metadata": {},
   "source": [
    "Transform continuous features to categorical,use pd.cut"
   ]
  },
  {
   "cell_type": "code",
   "execution_count": 113,
   "metadata": {},
   "outputs": [],
   "source": [
    "trip_duration_bins = [df_taxi.trip_duration.min(),\n",
    "                      df_taxi.trip_duration.median(),\n",
    "                      df_taxi.trip_duration.quantile(0.75),\n",
    "                      df_taxi.trip_duration.max(),\n",
    "                     ]"
   ]
  },
  {
   "cell_type": "code",
   "execution_count": 114,
   "metadata": {},
   "outputs": [
    {
     "data": {
      "text/html": [
       "<div>\n",
       "<style scoped>\n",
       "    .dataframe tbody tr th:only-of-type {\n",
       "        vertical-align: middle;\n",
       "    }\n",
       "\n",
       "    .dataframe tbody tr th {\n",
       "        vertical-align: top;\n",
       "    }\n",
       "\n",
       "    .dataframe thead th {\n",
       "        text-align: right;\n",
       "    }\n",
       "</style>\n",
       "<table border=\"1\" class=\"dataframe\">\n",
       "  <thead>\n",
       "    <tr style=\"text-align: right;\">\n",
       "      <th></th>\n",
       "      <th>trip_duration</th>\n",
       "      <th>trip_duration_binned</th>\n",
       "    </tr>\n",
       "  </thead>\n",
       "  <tbody>\n",
       "    <tr>\n",
       "      <th>1</th>\n",
       "      <td>516</td>\n",
       "      <td>short</td>\n",
       "    </tr>\n",
       "    <tr>\n",
       "      <th>2</th>\n",
       "      <td>683</td>\n",
       "      <td>medium</td>\n",
       "    </tr>\n",
       "    <tr>\n",
       "      <th>7</th>\n",
       "      <td>834</td>\n",
       "      <td>medium</td>\n",
       "    </tr>\n",
       "    <tr>\n",
       "      <th>8</th>\n",
       "      <td>298</td>\n",
       "      <td>short</td>\n",
       "    </tr>\n",
       "  </tbody>\n",
       "</table>\n",
       "</div>"
      ],
      "text/plain": [
       "   trip_duration trip_duration_binned\n",
       "1            516                short\n",
       "2            683               medium\n",
       "7            834               medium\n",
       "8            298                short"
      ]
     },
     "execution_count": 114,
     "metadata": {},
     "output_type": "execute_result"
    }
   ],
   "source": [
    "df_new = df_taxi.copy()\n",
    "df_new['trip_duration_binned'] = pd.cut(df_taxi.trip_duration,\n",
    "                                        bins=trip_duration_bins,\n",
    "                                        labels=['short','medium','long'],\n",
    "                                        include_lowest=True\n",
    "                                       )\n",
    "df_new[['trip_duration','trip_duration_binned']].iloc[:4]"
   ]
  },
  {
   "cell_type": "markdown",
   "metadata": {},
   "source": [
    "### One-Hot encoding"
   ]
  },
  {
   "cell_type": "code",
   "execution_count": 115,
   "metadata": {
    "scrolled": true
   },
   "outputs": [
    {
     "data": {
      "text/html": [
       "<div>\n",
       "<style scoped>\n",
       "    .dataframe tbody tr th:only-of-type {\n",
       "        vertical-align: middle;\n",
       "    }\n",
       "\n",
       "    .dataframe tbody tr th {\n",
       "        vertical-align: top;\n",
       "    }\n",
       "\n",
       "    .dataframe thead th {\n",
       "        text-align: right;\n",
       "    }\n",
       "</style>\n",
       "<table border=\"1\" class=\"dataframe\">\n",
       "  <thead>\n",
       "    <tr style=\"text-align: right;\">\n",
       "      <th></th>\n",
       "      <th>trip_duration_short</th>\n",
       "      <th>trip_duration_medium</th>\n",
       "      <th>trip_duration_long</th>\n",
       "    </tr>\n",
       "  </thead>\n",
       "  <tbody>\n",
       "    <tr>\n",
       "      <th>1</th>\n",
       "      <td>1</td>\n",
       "      <td>0</td>\n",
       "      <td>0</td>\n",
       "    </tr>\n",
       "    <tr>\n",
       "      <th>2</th>\n",
       "      <td>0</td>\n",
       "      <td>1</td>\n",
       "      <td>0</td>\n",
       "    </tr>\n",
       "    <tr>\n",
       "      <th>7</th>\n",
       "      <td>0</td>\n",
       "      <td>1</td>\n",
       "      <td>0</td>\n",
       "    </tr>\n",
       "  </tbody>\n",
       "</table>\n",
       "</div>"
      ],
      "text/plain": [
       "   trip_duration_short  trip_duration_medium  trip_duration_long\n",
       "1                    1                     0                   0\n",
       "2                    0                     1                   0\n",
       "7                    0                     1                   0"
      ]
     },
     "execution_count": 115,
     "metadata": {},
     "output_type": "execute_result"
    }
   ],
   "source": [
    "pd.get_dummies(df_new.trip_duration_binned, prefix='trip_duration').iloc[:3]"
   ]
  },
  {
   "cell_type": "code",
   "execution_count": 116,
   "metadata": {},
   "outputs": [
    {
     "data": {
      "text/plain": [
       "[array(['long', 'medium', 'short'], dtype=object)]"
      ]
     },
     "execution_count": 116,
     "metadata": {},
     "output_type": "execute_result"
    }
   ],
   "source": [
    "#Using scikit learn\n",
    "from sklearn.preprocessing import OneHotEncoder\n",
    "ohe = OneHotEncoder(sparse=False,handle_unknown='ignore')\n",
    "ohe.fit(df_new[['trip_duration_binned']])\n",
    "ohe.categories_"
   ]
  },
  {
   "cell_type": "code",
   "execution_count": 117,
   "metadata": {
    "scrolled": true
   },
   "outputs": [
    {
     "data": {
      "text/plain": [
       "1     short\n",
       "2    medium\n",
       "7    medium\n",
       "Name: trip_duration_binned, dtype: category\n",
       "Categories (3, object): [short < medium < long]"
      ]
     },
     "execution_count": 117,
     "metadata": {},
     "output_type": "execute_result"
    }
   ],
   "source": [
    "df_new.trip_duration_binned.head(3)"
   ]
  },
  {
   "cell_type": "code",
   "execution_count": 119,
   "metadata": {},
   "outputs": [
    {
     "data": {
      "text/plain": [
       "array([[0., 0., 1.],\n",
       "       [0., 1., 0.],\n",
       "       [0., 1., 0.]])"
      ]
     },
     "execution_count": 119,
     "metadata": {},
     "output_type": "execute_result"
    }
   ],
   "source": [
    "ohe.transform(df_new[['trip_duration_binned']])[:3]"
   ]
  },
  {
   "cell_type": "markdown",
   "metadata": {},
   "source": [
    "### Derived Features"
   ]
  },
  {
   "cell_type": "markdown",
   "metadata": {},
   "source": [
    "1. Anything that is a transformation of our data\n",
    "2. This is where the money is?\n",
    "\n",
    "Ex: trip_duration, PolynomialFeatures"
   ]
  },
  {
   "cell_type": "code",
   "execution_count": 120,
   "metadata": {},
   "outputs": [
    {
     "data": {
      "text/html": [
       "<div>\n",
       "<style scoped>\n",
       "    .dataframe tbody tr th:only-of-type {\n",
       "        vertical-align: middle;\n",
       "    }\n",
       "\n",
       "    .dataframe tbody tr th {\n",
       "        vertical-align: top;\n",
       "    }\n",
       "\n",
       "    .dataframe thead th {\n",
       "        text-align: right;\n",
       "    }\n",
       "</style>\n",
       "<table border=\"1\" class=\"dataframe\">\n",
       "  <thead>\n",
       "    <tr style=\"text-align: right;\">\n",
       "      <th></th>\n",
       "      <th>alcohol</th>\n",
       "      <th>malic_acid</th>\n",
       "    </tr>\n",
       "  </thead>\n",
       "  <tbody>\n",
       "    <tr>\n",
       "      <th>112</th>\n",
       "      <td>11.76</td>\n",
       "      <td>2.68</td>\n",
       "    </tr>\n",
       "    <tr>\n",
       "      <th>73</th>\n",
       "      <td>12.99</td>\n",
       "      <td>1.67</td>\n",
       "    </tr>\n",
       "    <tr>\n",
       "      <th>111</th>\n",
       "      <td>12.52</td>\n",
       "      <td>2.43</td>\n",
       "    </tr>\n",
       "  </tbody>\n",
       "</table>\n",
       "</div>"
      ],
      "text/plain": [
       "     alcohol  malic_acid\n",
       "112    11.76        2.68\n",
       "73     12.99        1.67\n",
       "111    12.52        2.43"
      ]
     },
     "execution_count": 120,
     "metadata": {},
     "output_type": "execute_result"
    }
   ],
   "source": [
    "# first 3 rows, first 2 features\n",
    "X_train_wine.iloc[:3,:2]"
   ]
  },
  {
   "cell_type": "code",
   "execution_count": 121,
   "metadata": {},
   "outputs": [
    {
     "data": {
      "text/plain": [
       "array([[ 11.76  ,   2.68  , 138.2976,  31.5168,   7.1824],\n",
       "       [ 12.99  ,   1.67  , 168.7401,  21.6933,   2.7889],\n",
       "       [ 12.52  ,   2.43  , 156.7504,  30.4236,   5.9049]])"
      ]
     },
     "execution_count": 121,
     "metadata": {},
     "output_type": "execute_result"
    }
   ],
   "source": [
    "from sklearn.preprocessing import PolynomialFeatures\n",
    "pf = PolynomialFeatures(degree=2,include_bias=False)\n",
    "X_new = pf.fit_transform(X_train_wine.iloc[:3,:2])\n",
    "X_new"
   ]
  },
  {
   "cell_type": "markdown",
   "metadata": {},
   "source": [
    "### Pipelines"
   ]
  },
  {
   "cell_type": "code",
   "execution_count": null,
   "metadata": {},
   "outputs": [],
   "source": []
  },
  {
   "cell_type": "code",
   "execution_count": null,
   "metadata": {},
   "outputs": [],
   "source": []
  }
 ],
 "metadata": {
  "kernelspec": {
   "display_name": "alexli",
   "language": "python",
   "name": "alexli"
  },
  "language_info": {
   "codemirror_mode": {
    "name": "ipython",
    "version": 3
   },
   "file_extension": ".py",
   "mimetype": "text/x-python",
   "name": "python",
   "nbconvert_exporter": "python",
   "pygments_lexer": "ipython3",
   "version": "3.7.6"
  }
 },
 "nbformat": 4,
 "nbformat_minor": 2
}
