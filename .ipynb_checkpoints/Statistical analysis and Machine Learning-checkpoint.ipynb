{
 "cells": [
  {
   "cell_type": "code",
   "execution_count": 1,
   "metadata": {},
   "outputs": [],
   "source": [
    "import numpy as np\n",
    "import pandas as pd\n",
    "import matplotlib.pyplot as plt\n",
    "import seaborn as sns\n",
    "\n",
    "%matplotlib inline"
   ]
  },
  {
   "cell_type": "markdown",
   "metadata": {},
   "source": [
    "# Hypothesis Test"
   ]
  },
  {
   "cell_type": "markdown",
   "metadata": {},
   "source": [
    "## Data import"
   ]
  },
  {
   "cell_type": "code",
   "execution_count": 63,
   "metadata": {},
   "outputs": [],
   "source": [
    "df = pd.read_csv('yellow_tripdata_2017-01_subset10000rows.csv')\n",
    "np.random.seed(0)"
   ]
  },
  {
   "cell_type": "code",
   "execution_count": 64,
   "metadata": {},
   "outputs": [],
   "source": [
    "#select first 1k distance as population\n",
    "trip_distance = df.trip_distance.dropna().iloc[:1000]"
   ]
  },
  {
   "cell_type": "markdown",
   "metadata": {},
   "source": [
    "## Sample"
   ]
  },
  {
   "cell_type": "code",
   "execution_count": 65,
   "metadata": {},
   "outputs": [],
   "source": [
    "#pick a sample size \n",
    "n = 50"
   ]
  },
  {
   "cell_type": "code",
   "execution_count": 66,
   "metadata": {},
   "outputs": [],
   "source": [
    "# take a sample from the population\n",
    "\n",
    "# randomly permute the indexs\n",
    "idx = np.random.permutation(len(trip_distance))\n",
    "#pick the first n index\n",
    "sample_idx = idx[:n]\n",
    "#select them from trip_distance\n",
    "sample = trip_distance.iloc[sample_idx]"
   ]
  },
  {
   "cell_type": "code",
   "execution_count": 67,
   "metadata": {},
   "outputs": [
    {
     "data": {
      "text/plain": [
       "993     0.96\n",
       "859     1.20\n",
       "298     1.01\n",
       "553     1.80\n",
       "672     3.26\n",
       "971     0.51\n",
       "27      0.60\n",
       "231     0.88\n",
       "306     4.10\n",
       "706     4.13\n",
       "496     1.40\n",
       "558     1.63\n",
       "784     1.40\n",
       "239     4.20\n",
       "578     1.97\n",
       "55      1.13\n",
       "906     0.90\n",
       "175     0.90\n",
       "14      2.99\n",
       "77      1.25\n",
       "31      2.07\n",
       "481     2.80\n",
       "310     4.87\n",
       "311     3.00\n",
       "883     0.89\n",
       "788     1.47\n",
       "45      1.70\n",
       "103     0.60\n",
       "760     2.40\n",
       "1       1.16\n",
       "823     4.30\n",
       "710     1.50\n",
       "614     1.50\n",
       "790     2.40\n",
       "408     1.23\n",
       "736     1.35\n",
       "957     2.77\n",
       "366     1.77\n",
       "918     1.87\n",
       "267     0.98\n",
       "230     6.33\n",
       "996     3.20\n",
       "635     3.63\n",
       "698     7.10\n",
       "251     2.87\n",
       "783     1.51\n",
       "819    14.99\n",
       "141     2.06\n",
       "316     4.23\n",
       "587     1.80\n",
       "Name: trip_distance, dtype: float64"
      ]
     },
     "execution_count": 67,
     "metadata": {},
     "output_type": "execute_result"
    }
   ],
   "source": [
    "sample"
   ]
  },
  {
   "cell_type": "code",
   "execution_count": 68,
   "metadata": {
    "scrolled": true
   },
   "outputs": [
    {
     "data": {
      "text/plain": [
       "array([10.91,  4.  ,  5.4 ,  0.97,  1.74,  1.01,  3.09,  0.91,  2.1 ,\n",
       "        0.7 ,  1.79,  0.27,  1.1 ,  1.93,  1.2 ,  2.68,  0.63,  1.35,\n",
       "        2.1 , 17.64,  3.8 ,  7.32,  1.46,  8.1 ,  2.2 ,  1.4 ,  2.4 ,\n",
       "        1.8 ,  2.94,  0.91, 12.1 ,  2.  ,  0.6 ,  1.2 ,  0.41,  1.27,\n",
       "        4.43,  2.1 ,  7.82,  2.65,  1.63,  3.1 ,  0.86,  2.4 ,  0.8 ,\n",
       "        1.5 , 11.7 ,  1.8 ,  1.1 ,  1.74])"
      ]
     },
     "execution_count": 68,
     "metadata": {},
     "output_type": "execute_result"
    }
   ],
   "source": [
    "#there's new np function like this, but not returning a pd.series\n",
    "np.random.choice(a = trip_distance, size=n, replace=False, p=None)\n",
    "#p is probability"
   ]
  },
  {
   "cell_type": "code",
   "execution_count": 71,
   "metadata": {
    "scrolled": false
   },
   "outputs": [
    {
     "data": {
      "text/plain": [
       "count    50.000000\n",
       "mean      2.586800\n",
       "std       3.019329\n",
       "min       0.590000\n",
       "25%       1.047500\n",
       "50%       1.630000\n",
       "75%       2.820000\n",
       "max      17.200000\n",
       "Name: trip_distance, dtype: float64"
      ]
     },
     "execution_count": 71,
     "metadata": {},
     "output_type": "execute_result"
    }
   ],
   "source": [
    "#but we can still have\n",
    "sample_idx = np.random.choice(a = len(trip_distance), size = n, replace = False)\n",
    "sample = trip_distance.iloc[sample_idx]\n",
    "#this sample is a pd.series\n",
    "sample.describe()"
   ]
  },
  {
   "cell_type": "code",
   "execution_count": 81,
   "metadata": {},
   "outputs": [
    {
     "data": {
      "image/png": "[encoded data removed]",
      "text/plain": [
       "<Figure size 864x288 with 2 Axes>"
      ]
     },
     "metadata": {},
     "output_type": "display_data"
    }
   ],
   "source": [
    "fig,ax = plt.subplots(1,2,figsize=(12,4))\n",
    "sns.distplot(sample, kde=False, rug=True, ax=ax[0]);\n",
    "sns.boxplot(sample, ax=ax[1]);"
   ]
  },
  {
   "cell_type": "markdown",
   "metadata": {},
   "source": [
    "By CLT, the mean of the distribution should be normal"
   ]
  },
  {
   "cell_type": "code",
   "execution_count": 75,
   "metadata": {},
   "outputs": [
    {
     "data": {
      "text/plain": [
       "'sample mean: 2.59'"
      ]
     },
     "execution_count": 75,
     "metadata": {},
     "output_type": "execute_result"
    }
   ],
   "source": [
    "xbar = sample.mean()\n",
    "f'sample mean: {xbar:0.2f}'"
   ]
  },
  {
   "cell_type": "code",
   "execution_count": 76,
   "metadata": {},
   "outputs": [],
   "source": [
    "np.random.seed(None)"
   ]
  },
  {
   "cell_type": "code",
   "execution_count": 77,
   "metadata": {},
   "outputs": [],
   "source": [
    "sample_means = []\n",
    "for i in range(1000):\n",
    "    idx = np.random.choice(a = len(trip_distance), size = n, replace = False)\n",
    "    sample_means.append(trip_distance.iloc[idx].mean())"
   ]
  },
  {
   "cell_type": "code",
   "execution_count": 78,
   "metadata": {},
   "outputs": [
    {
     "data": {
      "image/png": "[encoded data removed]",
      "text/plain": [
       "<Figure size 432x288 with 1 Axes>"
      ]
     },
     "metadata": {},
     "output_type": "display_data"
    }
   ],
   "source": [
    "ax = sns.distplot(sample_means, kde=False)\n",
    "ax.set_xlabel('sample_means');\n",
    "ax.set_ylabel('frequency');\n",
    "ax.vlines(xbar,*ax.get_ylim());\n",
    "#vertical lines have a x coordinate and two y variable"
   ]
  },
  {
   "cell_type": "markdown",
   "metadata": {},
   "source": [
    "Typically we only have one sample, we can bootstrap and generate a confidence interval, by which we can test \"mean of distance = xxx\""
   ]
  },
  {
   "cell_type": "markdown",
   "metadata": {},
   "source": [
    "trip_distance is our original sample"
   ]
  },
  {
   "cell_type": "code",
   "execution_count": 82,
   "metadata": {
    "scrolled": true
   },
   "outputs": [
    {
     "data": {
      "text/plain": [
       "1000"
      ]
     },
     "execution_count": 82,
     "metadata": {},
     "output_type": "execute_result"
    }
   ],
   "source": [
    "n = len(trip_distance)\n",
    "n"
   ]
  },
  {
   "cell_type": "code",
   "execution_count": 83,
   "metadata": {
    "scrolled": true
   },
   "outputs": [
    {
     "name": "stdout",
     "output_type": "stream",
     "text": [
      "sample mean: 2.8324\n"
     ]
    }
   ],
   "source": [
    "x_bar = trip_distance.mean()\n",
    "print(f'sample mean: {x_bar:0.4f}')"
   ]
  },
  {
   "cell_type": "markdown",
   "metadata": {},
   "source": [
    "## Bootstrap sampling"
   ]
  },
  {
   "cell_type": "markdown",
   "metadata": {},
   "source": [
    "### An newer version"
   ]
  },
  {
   "cell_type": "code",
   "execution_count": 142,
   "metadata": {},
   "outputs": [],
   "source": [
    "def generate_bootstrap_new(X, size=None):\n",
    "    # default return size of bootstrap is len(X)\n",
    "    if not size:\n",
    "        size = len(X)\n",
    "        \n",
    "    # resample from X size times with replacement\n",
    "    sample = np.random.choice(X, size = size, replace = True)\n",
    "    return sample"
   ]
  },
  {
   "cell_type": "code",
   "execution_count": 143,
   "metadata": {},
   "outputs": [],
   "source": [
    "num_iterations = 500\n",
    "bootstrap_means = [np.mean(generate_bootstrap_new(trip_distance.values)) \\\n",
    "                       for i in range(num_iterations)]\n",
    "bootstrap_means = np.array(bootstrap_means)"
   ]
  },
  {
   "cell_type": "markdown",
   "metadata": {},
   "source": [
    "a by-count approach"
   ]
  },
  {
   "cell_type": "code",
   "execution_count": 144,
   "metadata": {},
   "outputs": [
    {
     "data": {
      "text/plain": [
       "array([2.64146, 3.04872])"
      ]
     },
     "execution_count": 144,
     "metadata": {},
     "output_type": "execute_result"
    }
   ],
   "source": [
    "# 4. for an 95% conf. int., trim off 0.5*(1-0.95) of the data from both ends\n",
    "# sort the statistics\n",
    "bootstrap_means.sort()\n",
    "# calculate where to trim\n",
    "trim = .5*(1-.95) * num_iterations\n",
    "# find the closest integer\n",
    "trim = int(np.round(trim))\n",
    "# 5. those trim points are the endpoints of the the  alpha%  bootstrap conf int\n",
    "ci = bootstrap_means[[trim,-trim]]\n",
    "ci"
   ]
  },
  {
   "cell_type": "markdown",
   "metadata": {},
   "source": [
    "a statistical approach"
   ]
  },
  {
   "cell_type": "code",
   "execution_count": 147,
   "metadata": {},
   "outputs": [],
   "source": [
    "ci2 = np.array([bootstrap_means.mean()-2*bootstrap_means.std(),\\\n",
    "          bootstrap_means.mean()+2*bootstrap_means.std()])"
   ]
  },
  {
   "cell_type": "markdown",
   "metadata": {},
   "source": [
    "A visualization"
   ]
  },
  {
   "cell_type": "code",
   "execution_count": 160,
   "metadata": {
    "scrolled": true
   },
   "outputs": [
    {
     "data": {
      "image/png": "[encoded data removed]",
      "text/plain": [
       "<Figure size 432x288 with 1 Axes>"
      ]
     },
     "metadata": {},
     "output_type": "display_data"
    }
   ],
   "source": [
    "fig,ax = plt.subplots(1,1,figsize = (6,4))\n",
    "sns.distplot(bootstrap_means, ax = ax)\n",
    "ax.set_xlabel('bootstrap sample means')\n",
    "ax.vlines(ci, *ax.get_ylim(), color='b');\n",
    "ax.vlines(ci2, *ax.get_ylim(), color='r');"
   ]
  },
  {
   "cell_type": "markdown",
   "metadata": {},
   "source": [
    "Another 1-step approach by sns"
   ]
  },
  {
   "cell_type": "code",
   "execution_count": 162,
   "metadata": {},
   "outputs": [
    {
     "data": {
      "image/png": "[encoded data removed]",
      "text/plain": [
       "<Figure size 432x288 with 1 Axes>"
      ]
     },
     "metadata": {},
     "output_type": "display_data"
    }
   ],
   "source": [
    "sns.barplot(trip_distance,\n",
    "            estimator=np.mean, #default\n",
    "            ci=95,             #default\n",
    "            n_boot=100,        #default\n",
    "            orient='v',\n",
    "            color='c',\n",
    "           );"
   ]
  },
  {
   "cell_type": "markdown",
   "metadata": {},
   "source": [
    "### P.S.1 : An older version easier to understand"
   ]
  },
  {
   "cell_type": "code",
   "execution_count": 119,
   "metadata": {},
   "outputs": [],
   "source": [
    "def generate_bootstrap_old(X, size=None):\n",
    "    # get the length of the data\n",
    "    len_X = len(X)\n",
    "    \n",
    "    # default size of bootstrap is len(X)\n",
    "    if not size:\n",
    "        size = len_X\n",
    "        \n",
    "    # resample from X size times\n",
    "    sample = []\n",
    "    for i in range(size):\n",
    "        idx = np.random.randint(len_X)\n",
    "        sample.append(X[idx])\n",
    "    return sample"
   ]
  },
  {
   "cell_type": "code",
   "execution_count": 120,
   "metadata": {},
   "outputs": [
    {
     "name": "stdout",
     "output_type": "stream",
     "text": [
      "time cost: 3.5045690536499023s\n"
     ]
    }
   ],
   "source": [
    "# 3. repeat 1 and 2 many times\n",
    "num_iterations = 500\n",
    "bootstrap_means = []\n",
    "\n",
    "time_start=time.time()\n",
    "for i in range(num_iterations):\n",
    "    # 1. draw a random sample of size *n* from the data\n",
    "    bootstrap = generate_bootstrap_old(trip_distance.values)\n",
    "    \n",
    "    # 2. record the sample statistic from this random sample\n",
    "    bootstrap_means.append(np.mean(bootstrap))\n",
    "time_end=time.time()\n",
    "print(f\"time cost: {time_end - time_start}s\")\n",
    "bootstrap_means = np.array(bootstrap_means)"
   ]
  },
  {
   "cell_type": "markdown",
   "metadata": {},
   "source": [
    "### P.S.2 a for loop version with new bootstrap, generator is still quicker!"
   ]
  },
  {
   "cell_type": "code",
   "execution_count": 132,
   "metadata": {},
   "outputs": [],
   "source": [
    "import time\n",
    "#for efficiency check"
   ]
  },
  {
   "cell_type": "code",
   "execution_count": 131,
   "metadata": {},
   "outputs": [
    {
     "name": "stdout",
     "output_type": "stream",
     "text": [
      "time cost: 0.025842266082763674s\n"
     ]
    }
   ],
   "source": [
    "num_iterations = 500\n",
    "time_list = []\n",
    "for t in range(100):\n",
    "    time_start=time.time()\n",
    "    bootstrap_means = [np.mean(generate_bootstrap_new(trip_distance.values)) \\\n",
    "                       for i in range(num_iterations)]\n",
    "    bootstrap_means = np.array(bootstrap_means)\n",
    "    time_end=time.time()\n",
    "    time_list.append(time_end - time_start)\n",
    "print(f\"time cost: {np.mean(time_list)}s\")"
   ]
  },
  {
   "cell_type": "code",
   "execution_count": 127,
   "metadata": {},
   "outputs": [
    {
     "name": "stdout",
     "output_type": "stream",
     "text": [
      "for loop with new bootstrap, time cost: 0.029674155712127684s\n"
     ]
    }
   ],
   "source": [
    "#for loop with new bootstrap, it's slightly slower\n",
    "num_iterations = 500\n",
    "time_list = []\n",
    "for i in range(100):\n",
    "    time_start=time.time()\n",
    "    bootstrap_means = []\n",
    "    for i in range(num_iterations):\n",
    "        # 1. draw a random sample of size *n* from the data\n",
    "        bootstrap = generate_bootstrap_new(trip_distance.values)\n",
    "        # 2. record the sample statistic from this random sample\n",
    "        bootstrap_means.append(np.mean(bootstrap))\n",
    "    bootstrap_means = np.array(bootstrap_means)\n",
    "    time_end=time.time()\n",
    "    time_list.append(time_end - time_start)\n",
    "print(f\"for loop with new bootstrap, time cost: {np.mean(time_list)}s\")"
   ]
  },
  {
   "cell_type": "markdown",
   "metadata": {},
   "source": [
    "# Bivariate: A/B Test : Webpages and Sales"
   ]
  },
  {
   "cell_type": "markdown",
   "metadata": {},
   "source": [
    "1. select a given metric\n",
    "2. randomly mix 2 types of data together, and select new groups with same size as original\n",
    "3. compute metric with the new group\n",
    "4. repeat 2 and 3\n",
    "5. use data from 4 to generate distribution and test given metric"
   ]
  },
  {
   "cell_type": "code",
   "execution_count": 199,
   "metadata": {},
   "outputs": [
    {
     "data": {
      "text/html": [
       "<div>\n",
       "<style scoped>\n",
       "    .dataframe tbody tr th:only-of-type {\n",
       "        vertical-align: middle;\n",
       "    }\n",
       "\n",
       "    .dataframe tbody tr th {\n",
       "        vertical-align: top;\n",
       "    }\n",
       "\n",
       "    .dataframe thead th {\n",
       "        text-align: right;\n",
       "    }\n",
       "</style>\n",
       "<table border=\"1\" class=\"dataframe\">\n",
       "  <thead>\n",
       "    <tr style=\"text-align: right;\">\n",
       "      <th></th>\n",
       "      <th>Page</th>\n",
       "      <th>Time</th>\n",
       "    </tr>\n",
       "  </thead>\n",
       "  <tbody>\n",
       "    <tr>\n",
       "      <th>0</th>\n",
       "      <td>Page A</td>\n",
       "      <td>12.6</td>\n",
       "    </tr>\n",
       "    <tr>\n",
       "      <th>1</th>\n",
       "      <td>Page B</td>\n",
       "      <td>151.8</td>\n",
       "    </tr>\n",
       "    <tr>\n",
       "      <th>2</th>\n",
       "      <td>Page A</td>\n",
       "      <td>21.0</td>\n",
       "    </tr>\n",
       "  </tbody>\n",
       "</table>\n",
       "</div>"
      ],
      "text/plain": [
       "     Page   Time\n",
       "0  Page A   12.6\n",
       "1  Page B  151.8\n",
       "2  Page A   21.0"
      ]
     },
     "execution_count": 199,
     "metadata": {},
     "output_type": "execute_result"
    }
   ],
   "source": [
    "#data read-in\n",
    "session_times = pd.read_csv('web_page_data.csv')\n",
    "session_times.head(3)"
   ]
  },
  {
   "cell_type": "code",
   "execution_count": 168,
   "metadata": {
    "scrolled": true
   },
   "outputs": [
    {
     "data": {
      "image/png": "[encoded data removed]",
      "text/plain": [
       "<Figure size 864x432 with 2 Axes>"
      ]
     },
     "metadata": {},
     "output_type": "display_data"
    }
   ],
   "source": [
    "#exploratory analysis\n",
    "fig, ax = plt.subplots(1,2,figsize = (12,6))\n",
    "sns.boxplot(x='Page',y='Time',data=session_times, ax = ax[0]);\n",
    "sns.barplot(x='Page',y='Time',data=session_times, ax = ax[1]);"
   ]
  },
  {
   "cell_type": "markdown",
   "metadata": {},
   "source": [
    "Question: is page A and B really have difference in reading time?<br>\n",
    "Metric: the measure we're interested in<br>\n",
    "Ex: We're interested in a difference of means (Page B - Page A)"
   ]
  },
  {
   "cell_type": "code",
   "execution_count": 169,
   "metadata": {},
   "outputs": [
    {
     "name": "stdout",
     "output_type": "stream",
     "text": [
      "observed metric: 21.40\n"
     ]
    }
   ],
   "source": [
    "mean_a = session_times[session_times.Page == 'Page A'].Time.mean()\n",
    "mean_b = session_times[session_times.Page == 'Page B'].Time.mean()\n",
    "observed_metric = mean_b-mean_a\n",
    "print('observed metric: {:0.2f}'.format(observed_metric))"
   ]
  },
  {
   "cell_type": "code",
   "execution_count": 205,
   "metadata": {},
   "outputs": [],
   "source": [
    "# 0. get group sizes\n",
    "n_a = sum(session_times.Page == 'Page A')#sum of boolean\n",
    "n_b = sum(session_times.Page == 'Page B')"
   ]
  },
  {
   "cell_type": "code",
   "execution_count": 202,
   "metadata": {},
   "outputs": [
    {
     "name": "stdout",
     "output_type": "stream",
     "text": [
      "-23.58\n"
     ]
    }
   ],
   "source": [
    "# combine groups together (assume H_0 is true)\n",
    "samples = session_times.Time\n",
    "# permute observations\n",
    "permuted = np.random.permutation(session_times.Time)\n",
    "# calculate metric\n",
    "rand_mean_a = permuted[:n_a].mean()\n",
    "rand_mean_b = permuted[n_a:].mean()\n",
    "rand_mean_diff = (rand_mean_b - rand_mean_a)\n",
    "print('{:.2f}'.format(rand_mean_diff))"
   ]
  },
  {
   "cell_type": "code",
   "execution_count": 203,
   "metadata": {},
   "outputs": [],
   "source": [
    "# repeated version\n",
    "rand_mean_diffs = []\n",
    "for i in range(10000):\n",
    "    permuted = np.random.permutation(session_times.Time)\n",
    "    rand_mean_a = permuted[:n_a].mean()\n",
    "    rand_mean_b = permuted[n_a:].mean()\n",
    "    rand_mean_diffs.append(rand_mean_b - rand_mean_a)"
   ]
  },
  {
   "cell_type": "code",
   "execution_count": 209,
   "metadata": {},
   "outputs": [
    {
     "data": {
      "image/png": "[encoded data removed]",
      "text/plain": [
       "<Figure size 432x288 with 1 Axes>"
      ]
     },
     "metadata": {},
     "output_type": "display_data"
    }
   ],
   "source": [
    "# 5. see where our original observation falls\n",
    "ax = sns.distplot(rand_mean_diffs, norm_hist=False, kde=False)\n",
    "ax.set_xlabel('random mean differences');\n",
    "ax.set_ylabel('frequency');\n",
    "ax.vlines(observed_metric, *ax.get_ylim(), color='r');"
   ]
  },
  {
   "cell_type": "code",
   "execution_count": 210,
   "metadata": {},
   "outputs": [
    {
     "data": {
      "image/png": "[encoded data removed]",
      "text/plain": [
       "<Figure size 432x288 with 1 Axes>"
      ]
     },
     "metadata": {},
     "output_type": "display_data"
    }
   ],
   "source": [
    "# 5. see where our original observation falls (normalized)\n",
    "xbar = np.mean(rand_mean_diffs)\n",
    "s = np.std(rand_mean_diffs)\n",
    "rand_zscores = (rand_mean_diffs - xbar)/s\n",
    "observed_metric_zscore = (observed_metric - xbar)/s\n",
    "\n",
    "ax = sns.distplot(rand_zscores, norm_hist=False, kde=False)\n",
    "ax.set_xlabel('random mean differences normed');\n",
    "ax.set_ylabel('frequency');\n",
    "ax.vlines(observed_metric_zscore, *ax.get_ylim(), color='r');"
   ]
  },
  {
   "cell_type": "code",
   "execution_count": 178,
   "metadata": {
    "scrolled": true
   },
   "outputs": [
    {
     "data": {
      "text/plain": [
       "0.2636"
      ]
     },
     "execution_count": 178,
     "metadata": {},
     "output_type": "execute_result"
    }
   ],
   "source": [
    "# find absolute values greater than our observed_metric\n",
    "gt = np.abs(np.array(rand_mean_diffs)) >= np.abs(observed_metric)\n",
    "# how many are greater?\n",
    "num_gt = sum(gt)\n",
    "# proportion of total that are as or more extreme\n",
    "p = num_gt / len(rand_mean_diffs)\n",
    "p"
   ]
  },
  {
   "cell_type": "markdown",
   "metadata": {},
   "source": [
    "### One-Tailed Test"
   ]
  },
  {
   "cell_type": "code",
   "execution_count": 182,
   "metadata": {
    "scrolled": true
   },
   "outputs": [
    {
     "data": {
      "text/plain": [
       "0.1354"
      ]
     },
     "execution_count": 182,
     "metadata": {},
     "output_type": "execute_result"
    }
   ],
   "source": [
    "sum(np.array(rand_mean_diffs) >= observed_metric) / len(rand_mean_diffs)"
   ]
  },
  {
   "cell_type": "markdown",
   "metadata": {},
   "source": [
    "### t-Test"
   ]
  },
  {
   "cell_type": "code",
   "execution_count": 198,
   "metadata": {},
   "outputs": [
    {
     "data": {
      "text/plain": [
       "0.28152437245700607"
      ]
     },
     "execution_count": 198,
     "metadata": {},
     "output_type": "execute_result"
    }
   ],
   "source": [
    "t = sp.stats.ttest_ind(session_times[session_times.Page == 'Page A'].Time.values,\n",
    "                       session_times[session_times.Page == 'Page B'].Time.values,\n",
    "                       equal_var=False)\n",
    "t.pvalue"
   ]
  },
  {
   "cell_type": "markdown",
   "metadata": {},
   "source": [
    "### Another Ex: Price vs Conversion"
   ]
  },
  {
   "cell_type": "code",
   "execution_count": 184,
   "metadata": {},
   "outputs": [
    {
     "data": {
      "text/html": [
       "<div>\n",
       "<style scoped>\n",
       "    .dataframe tbody tr th:only-of-type {\n",
       "        vertical-align: middle;\n",
       "    }\n",
       "\n",
       "    .dataframe tbody tr th {\n",
       "        vertical-align: top;\n",
       "    }\n",
       "\n",
       "    .dataframe thead th {\n",
       "        text-align: right;\n",
       "    }\n",
       "</style>\n",
       "<table border=\"1\" class=\"dataframe\">\n",
       "  <thead>\n",
       "    <tr style=\"text-align: right;\">\n",
       "      <th></th>\n",
       "      <th>Price A</th>\n",
       "      <th>Price B</th>\n",
       "    </tr>\n",
       "  </thead>\n",
       "  <tbody>\n",
       "    <tr>\n",
       "      <th>Conversion</th>\n",
       "      <td>200</td>\n",
       "      <td>182</td>\n",
       "    </tr>\n",
       "    <tr>\n",
       "      <th>No Conversion</th>\n",
       "      <td>23539</td>\n",
       "      <td>22406</td>\n",
       "    </tr>\n",
       "  </tbody>\n",
       "</table>\n",
       "</div>"
      ],
      "text/plain": [
       "               Price A  Price B\n",
       "Conversion         200      182\n",
       "No Conversion    23539    22406"
      ]
     },
     "execution_count": 184,
     "metadata": {},
     "output_type": "execute_result"
    }
   ],
   "source": [
    "df = pd.DataFrame({'Price A':[200,23539],\n",
    "                   'Price B':[182,22406]},\n",
    "                   index=['Conversion','No Conversion'])\n",
    "df"
   ]
  },
  {
   "cell_type": "markdown",
   "metadata": {},
   "source": [
    "Metric of Interest: difference in percent conversion"
   ]
  },
  {
   "cell_type": "code",
   "execution_count": 187,
   "metadata": {},
   "outputs": [
    {
     "data": {
      "text/plain": [
       "Price A    0.842495\n",
       "Price B    0.805738\n",
       "dtype: float64"
      ]
     },
     "execution_count": 187,
     "metadata": {},
     "output_type": "execute_result"
    }
   ],
   "source": [
    "pct_conv = df.loc['Conversion'] / df.sum(axis=0) * 100\n",
    "#axis = 0 means column direction\n",
    "pct_conv"
   ]
  },
  {
   "cell_type": "code",
   "execution_count": 188,
   "metadata": {},
   "outputs": [
    {
     "name": "stdout",
     "output_type": "stream",
     "text": [
      "0.0368%\n"
     ]
    }
   ],
   "source": [
    "diff_pct_conv = pct_conv['Price A'] - pct_conv['Price B']\n",
    "print(f'{diff_pct_conv:.4f}%')"
   ]
  },
  {
   "cell_type": "code",
   "execution_count": 189,
   "metadata": {},
   "outputs": [
    {
     "data": {
      "text/plain": [
       "46327"
      ]
     },
     "execution_count": 189,
     "metadata": {},
     "output_type": "execute_result"
    }
   ],
   "source": [
    "n = df.sum().sum()\n",
    "n"
   ]
  },
  {
   "cell_type": "code",
   "execution_count": 190,
   "metadata": {},
   "outputs": [
    {
     "data": {
      "text/plain": [
       "382"
      ]
     },
     "execution_count": 190,
     "metadata": {},
     "output_type": "execute_result"
    }
   ],
   "source": [
    "n_conversion = df.loc['Conversion'].sum()\n",
    "n_conversion"
   ]
  },
  {
   "cell_type": "code",
   "execution_count": 195,
   "metadata": {},
   "outputs": [],
   "source": [
    "#use 0 and 1 to stand for the conversion or not \n",
    "samples = np.zeros(n)\n",
    "samples[:n_conversion] = 1  \n",
    "assert sum(samples) == n_conversion"
   ]
  },
  {
   "cell_type": "code",
   "execution_count": 192,
   "metadata": {},
   "outputs": [
    {
     "name": "stdout",
     "output_type": "stream",
     "text": [
      "23739 22588 46327\n"
     ]
    }
   ],
   "source": [
    "n_a, n_b = df.sum(axis=0)\n",
    "print(n_a, n_b, n_a + n_b)\n",
    "assert n_a + n_b == n"
   ]
  },
  {
   "cell_type": "code",
   "execution_count": 193,
   "metadata": {},
   "outputs": [
    {
     "name": "stdout",
     "output_type": "stream",
     "text": [
      "CPU times: user 8.13 s, sys: 59.1 ms, total: 8.19 s\n",
      "Wall time: 8.41 s\n"
     ]
    }
   ],
   "source": [
    "%%time\n",
    "rand_conv_diffs = []\n",
    "for i in range(1000):\n",
    "    permutation = np.random.permutation(samples)\n",
    "    rand_conv_a = sum(permutation[:n_a]) / n_a\n",
    "    rand_conv_b = sum(permutation[n_a:]) / n_b\n",
    "    rand_conv_diffs.append(100 * (rand_conv_a - rand_conv_b))"
   ]
  },
  {
   "cell_type": "code",
   "execution_count": 194,
   "metadata": {
    "scrolled": true
   },
   "outputs": [
    {
     "data": {
      "image/png": "[encoded data removed]",
      "text/plain": [
       "<Figure size 432x288 with 1 Axes>"
      ]
     },
     "metadata": {},
     "output_type": "display_data"
    }
   ],
   "source": [
    "ax = sns.distplot(rand_conv_diffs, norm_hist=False, kde=False)\n",
    "ax.vlines(diff_pct_conv, *ax.get_ylim(), color='r');"
   ]
  },
  {
   "cell_type": "markdown",
   "metadata": {},
   "source": [
    "# How many observations?"
   ]
  },
  {
   "cell_type": "markdown",
   "metadata": {},
   "source": [
    "Common question: How many observations do we need?\n",
    "\n",
    "These 4 things are related:\n",
    "\n",
    "effect size: Min size of effect you want to detect  \n",
    "Ex: \"10% increase in clicks\"  \n",
    "\n",
    "power: Prob. of detecting given effect size with given sample size  \n",
    "P(reject H0∣H1 true)  \n",
    "\n",
    "alpha: significance level at which to reject the null  \n",
    "1−P(reject H0∣H0 true)  \n",
    "\n",
    "number of observations: usually what we're interested in finding"
   ]
  },
  {
   "cell_type": "code",
   "execution_count": 217,
   "metadata": {},
   "outputs": [
    {
     "name": "stdout",
     "output_type": "stream",
     "text": [
      "num observations needed: 10397.0\n"
     ]
    }
   ],
   "source": [
    "from statsmodels.stats.power import tt_ind_solve_power\n",
    "# choose one to set as None\n",
    "x = tt_ind_solve_power(effect_size=.05, # diff between means divided by std dev\n",
    "                       nobs1=None,\n",
    "                       alpha=.05,       # type 1 error\n",
    "                       power=.95,       # 1 - type 2 error\n",
    "                       ratio=1          # n_a : n_b\n",
    "                  )\n",
    "print(f'num observations needed: {np.ceil(x)}')"
   ]
  },
  {
   "cell_type": "markdown",
   "metadata": {},
   "source": [
    "What happens to our power if we can only get 1000 observations?"
   ]
  },
  {
   "cell_type": "code",
   "execution_count": 216,
   "metadata": {},
   "outputs": [
    {
     "name": "stdout",
     "output_type": "stream",
     "text": [
      "power: 0.20\n"
     ]
    }
   ],
   "source": [
    "x = tt_ind_solve_power(effect_size=.05, # diff between means divided by std dev\n",
    "                       nobs1=1000,      #number of observation\n",
    "                       alpha=.05,       # type 1 error\n",
    "                       power=None,      # 1 - type 2 error\n",
    "                       ratio=1          # n_a : n_b\n",
    "                  )\n",
    "print(f'power: {x:0.2f}')"
   ]
  },
  {
   "cell_type": "markdown",
   "metadata": {},
   "source": [
    "# Plot a N(0,1)"
   ]
  },
  {
   "cell_type": "code",
   "execution_count": 130,
   "metadata": {},
   "outputs": [
    {
     "data": {
      "image/png": "[encoded data removed]",
      "text/plain": [
       "<Figure size 432x288 with 1 Axes>"
      ]
     },
     "metadata": {},
     "output_type": "display_data"
    }
   ],
   "source": [
    "import scipy as sp\n",
    "x = np.random.normal(0,1,size=100000)\n",
    "ax = sns.distplot(x);\n",
    "ax.set_xlabel('x');ax.set_ylabel('N(0,1)')\n",
    "ax.vlines([-1,1],0,sp.stats.norm.pdf(1), colors='k');\n",
    "ax.vlines([-2,2],0,sp.stats.norm.pdf(2), colors='r');"
   ]
  },
  {
   "cell_type": "markdown",
   "metadata": {},
   "source": [
    "# MAB(Multi-Armed Bandit)"
   ]
  },
  {
   "cell_type": "markdown",
   "metadata": {},
   "source": [
    "1. We have two ads\n",
    "2. We don't know how often each will lead to a response\n",
    "3. We need to decide which ad to add to each page request"
   ]
  },
  {
   "cell_type": "code",
   "execution_count": 235,
   "metadata": {},
   "outputs": [],
   "source": [
    "np.random.seed(7) # so the example is consistent\n",
    "# creating two ads (distributions) with unknown response rate\n",
    "ad_A = sp.stats.bernoulli(p=np.random.rand())\n",
    "ad_B = sp.stats.bernoulli(p=np.random.rand())"
   ]
  },
  {
   "cell_type": "code",
   "execution_count": 236,
   "metadata": {},
   "outputs": [],
   "source": [
    "# epsilon probability for epsilon-MAB\n",
    "epsilon = 0.40"
   ]
  },
  {
   "cell_type": "code",
   "execution_count": 237,
   "metadata": {},
   "outputs": [
    {
     "data": {
      "text/plain": [
       "([0], [1])"
      ]
     },
     "execution_count": 237,
     "metadata": {},
     "output_type": "execute_result"
    }
   ],
   "source": [
    "#round 1\n",
    "pulls_A = [ad_A.rvs()]#rvs(p, loc=0, size=1, random_state=None) Random variates.\n",
    "#round 2\n",
    "pulls_B = [ad_B.rvs()]\n",
    "pulls_A,pulls_B"
   ]
  },
  {
   "cell_type": "code",
   "execution_count": 238,
   "metadata": {},
   "outputs": [
    {
     "data": {
      "text/plain": [
       "True"
      ]
     },
     "execution_count": 238,
     "metadata": {},
     "output_type": "execute_result"
    }
   ],
   "source": [
    "#Round 3\n",
    "#With probability 1−ϵ, choose the best arm (A)\n",
    "be_greedy = np.random.rand() > epsilon\n",
    "be_greedy"
   ]
  },
  {
   "cell_type": "code",
   "execution_count": 239,
   "metadata": {},
   "outputs": [
    {
     "data": {
      "text/plain": [
       "([0], [1, 1])"
      ]
     },
     "execution_count": 239,
     "metadata": {},
     "output_type": "execute_result"
    }
   ],
   "source": [
    "pulls_B.append(ad_B.rvs())\n",
    "pulls_A,pulls_B"
   ]
  },
  {
   "cell_type": "code",
   "execution_count": 252,
   "metadata": {},
   "outputs": [],
   "source": [
    "def mab(ad_A,ad_B,pulls_A,pulls_B,epsilon):\n",
    "    #roll a random number\n",
    "    be_greedy = np.random.rand() > epsilon\n",
    "    \n",
    "    #of randomly choose\n",
    "    if not be_greedy: \n",
    "        if np.random.rand() < 0.5:\n",
    "            pulls_A.append(ad_A.rvs())\n",
    "            choice = 'A'\n",
    "        else:\n",
    "            pulls_B.append(ad_B.rvs())\n",
    "            choice = 'B'\n",
    "    # be greedy\n",
    "    else: \n",
    "        #compute the ratio\n",
    "        resp_A = sum(pulls_A) / len(pulls_A)\n",
    "        resp_B = sum(pulls_B) / len(pulls_B)\n",
    "        #choose the greedy\n",
    "        if resp_A > resp_B:\n",
    "            pulls_A.append(ad_A.rvs())\n",
    "            choice = 'A'\n",
    "        else:\n",
    "            pulls_B.append(ad_B.rvs())\n",
    "            choice = 'B'\n",
    "    return pulls_A, pulls_B, be_greedy, choice"
   ]
  },
  {
   "cell_type": "code",
   "execution_count": 241,
   "metadata": {},
   "outputs": [
    {
     "name": "stdout",
     "output_type": "stream",
     "text": [
      "True B [0] [1, 1, 1]\n"
     ]
    }
   ],
   "source": [
    "pulls_A, pulls_B, be_greedy, choice = mab(ad_A,\n",
    "                                          ad_B,\n",
    "                                          pulls_A,\n",
    "                                          pulls_B,\n",
    "                                          epsilon)\n",
    "print(be_greedy,choice,pulls_A, pulls_B)"
   ]
  },
  {
   "cell_type": "code",
   "execution_count": 242,
   "metadata": {},
   "outputs": [
    {
     "name": "stdout",
     "output_type": "stream",
     "text": [
      "False A [0, 0] [1, 1, 1]\n",
      "True B [0, 0] [1, 1, 1, 1]\n",
      "False A [0, 0, 0] [1, 1, 1, 1]\n",
      "False A [0, 0, 0, 1] [1, 1, 1, 1]\n",
      "False B [0, 0, 0, 1] [1, 1, 1, 1, 0]\n",
      "False B [0, 0, 0, 1] [1, 1, 1, 1, 0, 0]\n",
      "False B [0, 0, 0, 1] [1, 1, 1, 1, 0, 0, 1]\n",
      "True B [0, 0, 0, 1] [1, 1, 1, 1, 0, 0, 1, 1]\n",
      "False A [0, 0, 0, 1, 0] [1, 1, 1, 1, 0, 0, 1, 1]\n",
      "True B [0, 0, 0, 1, 0] [1, 1, 1, 1, 0, 0, 1, 1, 1]\n"
     ]
    }
   ],
   "source": [
    "for i in range(10):\n",
    "    pulls_A, pulls_B, be_greedy, choice = mab(ad_A,ad_B,pulls_A,pulls_B,epsilon)\n",
    "    print(be_greedy,choice,pulls_A, pulls_B)"
   ]
  },
  {
   "cell_type": "code",
   "execution_count": 243,
   "metadata": {},
   "outputs": [
    {
     "name": "stdout",
     "output_type": "stream",
     "text": [
      "conversion rates: A: 0.20 B: 0.78\n"
     ]
    }
   ],
   "source": [
    "print('conversion rates: A: {:0.2f} B: {:0.2f}'.format(np.mean(pulls_A),np.mean(pulls_B)))"
   ]
  },
  {
   "cell_type": "code",
   "execution_count": 244,
   "metadata": {},
   "outputs": [
    {
     "data": {
      "text/plain": [
       "'ground truth: A: 0.08 B: 0.78'"
      ]
     },
     "execution_count": 244,
     "metadata": {},
     "output_type": "execute_result"
    }
   ],
   "source": [
    "f'ground truth: A: {ad_A.pmf(1):0.2f} B: {ad_B.pmf(1):0.2f}'"
   ]
  },
  {
   "cell_type": "code",
   "execution_count": 248,
   "metadata": {},
   "outputs": [],
   "source": [
    "for i in range(190):\n",
    "    pulls_A, pulls_B, be_greedy, choice = mab(ad_A,ad_B,pulls_A,pulls_B,epsilon)"
   ]
  },
  {
   "cell_type": "code",
   "execution_count": 249,
   "metadata": {},
   "outputs": [
    {
     "name": "stdout",
     "output_type": "stream",
     "text": [
      "True B [0, 0, 0, 1, 0, 0, 0, 0, 0, 0, 0, 0, 0, 0, 0, 0, 0, 0, 0, 0, 0, 0, 0, 0, 0, 0, 0, 0, 0, 0, 1, 0, 1, 0, 0, 1, 0, 0, 0, 1, 0, 0, 1, 0, 0, 0, 0, 0, 0, 0, 0, 0, 0, 0, 0, 0, 0, 0, 0, 0, 0, 0, 0, 0, 0, 0] [1, 1, 1, 1, 0, 0, 1, 1, 1, 1, 1, 1, 1, 1, 0, 1, 1, 1, 1, 1, 0, 1, 1, 1, 0, 1, 0, 0, 1, 1, 0, 1, 1, 1, 1, 1, 1, 0, 0, 0, 1, 0, 1, 0, 1, 1, 1, 0, 1, 0, 1, 1, 1, 1, 1, 1, 1, 0, 1, 0, 1, 1, 0, 1, 1, 1, 0, 1, 0, 1, 1, 1, 1, 0, 1, 1, 1, 1, 1, 0, 1, 1, 0, 1, 1, 1, 1, 1, 1, 1, 1, 1, 1, 1, 1, 1, 1, 0, 1, 1, 0, 1, 0, 1, 0, 1, 1, 1, 1, 1, 1, 1, 1, 1, 1, 0, 1, 1, 0, 1, 1, 1, 0, 0, 1, 0, 1, 0, 1, 1, 1, 1, 1, 0, 0, 1, 1, 0, 0, 0, 1, 1, 0, 1, 0, 1, 1, 1, 1, 0, 1, 1, 1, 0, 1, 1, 1, 0, 0, 1, 0, 1, 0, 0, 1, 1, 0, 1, 0, 1, 1, 1, 0, 1, 1, 1, 1, 1, 1, 1, 0, 1, 1, 1, 0, 0, 1, 1, 1, 0, 1, 1, 1, 1, 1, 1, 1, 1, 0, 1, 1, 0, 1, 0, 1, 1, 1, 1, 1, 0, 1, 1, 1, 1, 0, 1, 1, 1, 1, 1, 1, 1, 1, 1, 1, 1, 1, 1]\n"
     ]
    }
   ],
   "source": [
    "print(be_greedy,choice,pulls_A, pulls_B)"
   ]
  },
  {
   "cell_type": "code",
   "execution_count": 251,
   "metadata": {
    "scrolled": true
   },
   "outputs": [
    {
     "name": "stdout",
     "output_type": "stream",
     "text": [
      "conversion rates: A: 0.09 B: 0.74\n"
     ]
    }
   ],
   "source": [
    "print('conversion rates: A: {:0.2f} B: {:0.2f}'.format(np.mean(pulls_A),np.mean(pulls_B)))\n",
    "#it has a good converge, although a little bit long"
   ]
  },
  {
   "cell_type": "code",
   "execution_count": null,
   "metadata": {},
   "outputs": [],
   "source": []
  },
  {
   "cell_type": "code",
   "execution_count": null,
   "metadata": {},
   "outputs": [],
   "source": []
  },
  {
   "cell_type": "code",
   "execution_count": null,
   "metadata": {},
   "outputs": [],
   "source": []
  }
 ],
 "metadata": {
  "kernelspec": {
   "display_name": "alexli",
   "language": "python",
   "name": "alexli"
  },
  "language_info": {
   "codemirror_mode": {
    "name": "ipython",
    "version": 3
   },
   "file_extension": ".py",
   "mimetype": "text/x-python",
   "name": "python",
   "nbconvert_exporter": "python",
   "pygments_lexer": "ipython3",
   "version": "3.7.5"
  }
 },
 "nbformat": 4,
 "nbformat_minor": 2
}
