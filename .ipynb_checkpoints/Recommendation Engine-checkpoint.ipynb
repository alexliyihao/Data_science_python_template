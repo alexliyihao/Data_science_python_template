{
 "cells": [
  {
   "cell_type": "code",
   "execution_count": 155,
   "metadata": {},
   "outputs": [
    {
     "name": "stdout",
     "output_type": "stream",
     "text": [
      "   SqFtTotLiving_norm  SqFtLot_norm  AdjSalePrice_norm\n",
      "0            0.349914      0.654181          -0.798237\n",
      "3            1.225407      0.442910          -0.309217\n",
      "4           -0.394254      0.443470          -0.811184\n",
      "5           -1.258803     -1.685468          -0.414055\n",
      "7           -0.241043      2.133356          -0.629701\n"
     ]
    }
   ],
   "source": [
    "import pandas as pd\n",
    "\n",
    "df_house = pd.read_csv('../data/house_sales_subset_normed.csv',index_col=0)\n",
    "df = df_house[['SqFtTotLiving_norm','SqFtLot_norm','AdjSalePrice_norm']].iloc[:10]\n",
    "print(df.head())"
   ]
  },
  {
   "cell_type": "code",
   "execution_count": 156,
   "metadata": {},
   "outputs": [
    {
     "data": {
      "text/plain": [
       "(10, 10)"
      ]
     },
     "execution_count": 156,
     "metadata": {},
     "output_type": "execute_result"
    }
   ],
   "source": [
    "# using euclidean distance\n",
    "from sklearn.metrics.pairwise import euclidean_distances\n",
    "\n",
    "# calculate all pairwise distances between houses\n",
    "dists = euclidean_distances(df)\n",
    "dists.shape"
   ]
  },
  {
   "cell_type": "code",
   "execution_count": 157,
   "metadata": {},
   "outputs": [
    {
     "data": {
      "text/plain": [
       "SqFtTotLiving_norm   -1.193141\n",
       "SqFtLot_norm         -0.478846\n",
       "AdjSalePrice_norm    -1.039064\n",
       "Name: 8, dtype: float64"
      ]
     },
     "execution_count": 157,
     "metadata": {},
     "output_type": "execute_result"
    }
   ],
   "source": [
    "# find houses similar to this house\n",
    "query_idx = 5\n",
    "df.iloc[query_idx]"
   ]
  },
  {
   "cell_type": "code",
   "execution_count": 158,
   "metadata": {},
   "outputs": [
    {
     "data": {
      "text/plain": [
       "['1.9', '2.7', '1.2', '1.4', '2.8', '0.0', '2.0', '2.1', '1.0', '0.4']"
      ]
     },
     "execution_count": 158,
     "metadata": {},
     "output_type": "execute_result"
    }
   ],
   "source": [
    "# these are all distance scores for query house\n",
    "[f'{x:0.1f}' for x in dists[query_idx]]"
   ]
  },
  {
   "cell_type": "code",
   "execution_count": 160,
   "metadata": {},
   "outputs": [
    {
     "data": {
      "text/plain": [
       "array([5, 9, 8, 2, 3, 0, 6, 7, 1, 4])"
      ]
     },
     "execution_count": 160,
     "metadata": {},
     "output_type": "execute_result"
    }
   ],
   "source": [
    "# find indexes of best scores (for distances, want ascending)\n",
    "best_idxs_asc = np.argsort(dists[query_idx])\n",
    "best_idxs_asc"
   ]
  },
  {
   "cell_type": "code",
   "execution_count": 161,
   "metadata": {},
   "outputs": [
    {
     "data": {
      "text/plain": [
       "[(5, 0.0),\n",
       " (9, 0.36454193975111393),\n",
       " (8, 0.96489046966839),\n",
       " (2, 1.2412959364891165),\n",
       " (3, 1.3604716337327696),\n",
       " (0, 1.929447464433964),\n",
       " (6, 1.9964107048046749),\n",
       " (7, 2.0989248372129903),\n",
       " (1, 2.6891791893333212),\n",
       " (4, 2.810278966827491)]"
      ]
     },
     "execution_count": 161,
     "metadata": {},
     "output_type": "execute_result"
    }
   ],
   "source": [
    "# the top 10 recommendations\n",
    "list(zip(best_idxs_asc,sorted(dists[query_idx])))"
   ]
  },
  {
   "cell_type": "code",
   "execution_count": 110,
   "metadata": {},
   "outputs": [],
   "source": [
    "# what if these were similarities instead of differences?\n",
    "# would need to reverse this\n",
    "best_idxs_desc = best_idxs_asc[::-1]"
   ]
  },
  {
   "cell_type": "code",
   "execution_count": 119,
   "metadata": {},
   "outputs": [],
   "source": [
    "# from Data Science from Scratch by Joel Grus\n",
    "#https://github.com/joelgrus/data-science-from-scratch.git\n",
    "\n",
    "users_interests = [\n",
    "    [\"Hadoop\", \"Big Data\", \"HBase\", \"Java\", \"Spark\", \"Storm\", \"Cassandra\"],\n",
    "    [\"NoSQL\", \"MongoDB\", \"Cassandra\", \"HBase\", \"Postgres\"],\n",
    "    [\"Python\", \"scikit-learn\", \"scipy\", \"numpy\", \"statsmodels\", \"pandas\"],\n",
    "    [\"R\", \"Python\", \"statistics\", \"regression\", \"probability\"],\n",
    "    [\"machine learning\", \"regression\", \"decision trees\", \"libsvm\"],\n",
    "    [\"Python\", \"R\", \"Java\", \"C++\", \"Haskell\", \"programming languages\"],\n",
    "    [\"statistics\", \"probability\", \"mathematics\", \"theory\"],\n",
    "    [\"machine learning\", \"scikit-learn\", \"Mahout\", \"neural networks\"],\n",
    "    [\"neural networks\", \"deep learning\", \"Big Data\", \"artificial intelligence\"],\n",
    "    [\"Hadoop\", \"Java\", \"MapReduce\", \"Big Data\"],\n",
    "    [\"statistics\", \"R\", \"statsmodels\"],\n",
    "    [\"C++\", \"deep learning\", \"artificial intelligence\", \"probability\"],\n",
    "    [\"pandas\", \"R\", \"Python\"],\n",
    "    [\"databases\", \"HBase\", \"Postgres\", \"MySQL\", \"MongoDB\"],\n",
    "    [\"libsvm\", \"regression\", \"support vector machines\"]\n",
    "]"
   ]
  },
  {
   "cell_type": "code",
   "execution_count": 120,
   "metadata": {},
   "outputs": [
    {
     "data": {
      "text/plain": [
       "['Hadoop', 'Big Data', 'HBase', 'Java', 'Spark', 'Storm', 'Cassandra']"
      ]
     },
     "execution_count": 120,
     "metadata": {},
     "output_type": "execute_result"
    }
   ],
   "source": [
    "# interests of user0\n",
    "users_interests[0]"
   ]
  },
  {
   "cell_type": "code",
   "execution_count": 121,
   "metadata": {},
   "outputs": [],
   "source": [
    "# want a sorted list of unique interests (here using set)\n",
    "unique_interests = sorted({interest \n",
    "                           for user_interests in users_interests\n",
    "                           for interest in user_interests})"
   ]
  },
  {
   "cell_type": "code",
   "execution_count": 122,
   "metadata": {},
   "outputs": [
    {
     "data": {
      "text/plain": [
       "['Big Data', 'C++', 'Cassandra', 'HBase', 'Hadoop']"
      ]
     },
     "execution_count": 122,
     "metadata": {},
     "output_type": "execute_result"
    }
   ],
   "source": [
    "unique_interests[:5]"
   ]
  },
  {
   "cell_type": "code",
   "execution_count": 123,
   "metadata": {},
   "outputs": [],
   "source": [
    "# have user interests and unique interests (columns)\n",
    "\n",
    "from sklearn.preprocessing import MultiLabelBinarizer\n",
    "# Transform between lists of strings and fixed length lists of ints"
   ]
  },
  {
   "cell_type": "code",
   "execution_count": 124,
   "metadata": {},
   "outputs": [],
   "source": [
    "mlb = MultiLabelBinarizer(classes=unique_interests)"
   ]
  },
  {
   "cell_type": "code",
   "execution_count": 125,
   "metadata": {},
   "outputs": [],
   "source": [
    "user_interest_matrix = mlb.fit_transform(users_interests)"
   ]
  },
  {
   "cell_type": "code",
   "execution_count": 126,
   "metadata": {},
   "outputs": [
    {
     "data": {
      "text/plain": [
       "array([1, 0, 1, 1, 1, 0, 1, 0, 0, 0, 0, 0, 0, 0, 0, 1, 1, 0, 0, 0, 0, 0,\n",
       "       0, 0, 0, 0, 0, 0, 0, 0, 0, 0, 0, 0, 0, 0])"
      ]
     },
     "execution_count": 126,
     "metadata": {},
     "output_type": "execute_result"
    }
   ],
   "source": [
    "user_interest_matrix[0]"
   ]
  },
  {
   "cell_type": "code",
   "execution_count": 190,
   "metadata": {},
   "outputs": [
    {
     "data": {
      "text/plain": [
       "['Big Data', 'Cassandra', 'HBase', 'Hadoop', 'Java', 'Spark', 'Storm']"
      ]
     },
     "execution_count": 190,
     "metadata": {},
     "output_type": "execute_result"
    }
   ],
   "source": [
    "mlb.classes_[np.where(user_interest_matrix[0])].tolist()"
   ]
  },
  {
   "cell_type": "code",
   "execution_count": 188,
   "metadata": {},
   "outputs": [
    {
     "data": {
      "text/plain": [
       "['Big Data', 'Cassandra', 'HBase', 'Hadoop', 'Java', 'Spark', 'Storm']"
      ]
     },
     "execution_count": 188,
     "metadata": {},
     "output_type": "execute_result"
    }
   ],
   "source": [
    "sorted(users_interests[0])"
   ]
  },
  {
   "cell_type": "code",
   "execution_count": 191,
   "metadata": {},
   "outputs": [],
   "source": [
    "# do the positions of 1s match the user0 interests?\n",
    "assert mlb.classes_[np.where(user_interest_matrix[0])].tolist() == sorted(users_interests[0])"
   ]
  },
  {
   "cell_type": "code",
   "execution_count": 128,
   "metadata": {},
   "outputs": [],
   "source": [
    "# need to find the similarities (1-distance) between users based on interests\n",
    "\n",
    "from sklearn.metrics.pairwise import cosine_similarity"
   ]
  },
  {
   "cell_type": "code",
   "execution_count": 129,
   "metadata": {},
   "outputs": [],
   "source": [
    "user_similarities = cosine_similarity(user_interest_matrix)"
   ]
  },
  {
   "cell_type": "code",
   "execution_count": 192,
   "metadata": {},
   "outputs": [
    {
     "data": {
      "text/plain": [
       "array([1.        , 0.3380617 , 0.        , 0.        , 0.        ,\n",
       "       0.15430335, 0.        , 0.        , 0.18898224, 0.56694671,\n",
       "       0.        , 0.        , 0.        , 0.16903085, 0.        ])"
      ]
     },
     "execution_count": 192,
     "metadata": {},
     "output_type": "execute_result"
    }
   ],
   "source": [
    "user_similarities[0]"
   ]
  },
  {
   "cell_type": "code",
   "execution_count": 196,
   "metadata": {},
   "outputs": [
    {
     "data": {
      "text/plain": [
       "array([ 0,  1,  5,  8,  9, 13])"
      ]
     },
     "execution_count": 196,
     "metadata": {},
     "output_type": "execute_result"
    }
   ],
   "source": [
    "# what users does user0 share interests with?\n",
    "np.nonzero(user_similarities[0])[0]"
   ]
  },
  {
   "cell_type": "code",
   "execution_count": 197,
   "metadata": {},
   "outputs": [],
   "source": [
    "# return a sorted list of users based on similarity\n",
    "# skip not query user and similarity == 0\n",
    "def most_similar_users_to(query_idx):\n",
    "    users_scores = [(idx,sim) \n",
    "                    for idx,sim in enumerate(user_similarities[query_idx]) \n",
    "                    if idx != query_idx and sim > 0]\n",
    "    return sorted(users_scores, key=lambda x:x[1])"
   ]
  },
  {
   "cell_type": "code",
   "execution_count": 198,
   "metadata": {},
   "outputs": [
    {
     "data": {
      "text/plain": [
       "[(5, 0.1543033499620919),\n",
       " (13, 0.1690308509457033),\n",
       " (8, 0.1889822365046136),\n",
       " (1, 0.3380617018914066),\n",
       " (9, 0.5669467095138407)]"
      ]
     },
     "execution_count": 198,
     "metadata": {},
     "output_type": "execute_result"
    }
   ],
   "source": [
    "most_similar_users_to(0)"
   ]
  },
  {
   "cell_type": "code",
   "execution_count": 199,
   "metadata": {},
   "outputs": [
    {
     "data": {
      "text/plain": [
       "[(0, 0.1543033499620919),\n",
       " (2, 0.1666666666666667),\n",
       " (9, 0.20412414523193154),\n",
       " (11, 0.20412414523193154),\n",
       " (10, 0.2357022603955159),\n",
       " (3, 0.36514837167011077),\n",
       " (12, 0.4714045207910318)]"
      ]
     },
     "execution_count": 199,
     "metadata": {},
     "output_type": "execute_result"
    }
   ],
   "source": [
    "most_similar_users_to(5)"
   ]
  },
  {
   "cell_type": "code",
   "execution_count": 133,
   "metadata": {},
   "outputs": [],
   "source": [
    "# return the interests of other users\n",
    "# weight is sum of similarity to other users\n",
    "\n",
    "from collections import defaultdict\n",
    "\n",
    "def user_based_suggestions(idx):\n",
    "    suggestions = defaultdict(float)\n",
    "    \n",
    "    # iterate over interests of similar users\n",
    "    for other_idx, sim in most_similar_users_to(idx):\n",
    "        for interest in users_interests[other_idx]:\n",
    "            suggestions[interest] += sim\n",
    "            \n",
    "    # sort suggestions based on weight\n",
    "    suggestions = sorted(suggestions.items(),\n",
    "                        key=lambda x:x[1],\n",
    "                        reverse=True)\n",
    "    \n",
    "    # return only new interests\n",
    "    return [(suggestion,weight)\n",
    "            for suggestion,weight in suggestions\n",
    "            if suggestion not in users_interests[idx]]"
   ]
  },
  {
   "cell_type": "code",
   "execution_count": 134,
   "metadata": {},
   "outputs": [
    {
     "data": {
      "text/plain": [
       "['Hadoop', 'Big Data', 'HBase', 'Java', 'Spark', 'Storm', 'Cassandra']"
      ]
     },
     "execution_count": 134,
     "metadata": {},
     "output_type": "execute_result"
    }
   ],
   "source": [
    "# reminder: original interests\n",
    "users_interests[0]"
   ]
  },
  {
   "cell_type": "code",
   "execution_count": 135,
   "metadata": {},
   "outputs": [
    {
     "data": {
      "text/plain": [
       "[('MapReduce', 0.5669467095138407),\n",
       " ('Postgres', 0.50709255283711),\n",
       " ('MongoDB', 0.50709255283711),\n",
       " ('NoSQL', 0.3380617018914066),\n",
       " ('neural networks', 0.1889822365046136)]"
      ]
     },
     "execution_count": 135,
     "metadata": {},
     "output_type": "execute_result"
    }
   ],
   "source": [
    "# top 5 new recommended interests\n",
    "user_based_suggestions(0)[:5]"
   ]
  },
  {
   "cell_type": "code",
   "execution_count": null,
   "metadata": {},
   "outputs": [],
   "source": []
  }
 ],
 "metadata": {
  "kernelspec": {
   "display_name": "alexli",
   "language": "python",
   "name": "alexli"
  },
  "language_info": {
   "codemirror_mode": {
    "name": "ipython",
    "version": 3
   },
   "file_extension": ".py",
   "mimetype": "text/x-python",
   "name": "python",
   "nbconvert_exporter": "python",
   "pygments_lexer": "ipython3",
   "version": "3.7.6"
  }
 },
 "nbformat": 4,
 "nbformat_minor": 2
}
