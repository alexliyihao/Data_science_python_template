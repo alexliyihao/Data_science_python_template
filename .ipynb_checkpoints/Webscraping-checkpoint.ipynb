{
 "cells": [
  {
   "cell_type": "markdown",
   "metadata": {
    "slideshow": {
     "slide_type": "slide"
    }
   },
   "source": [
    "## Webscraping"
   ]
  },
  {
   "cell_type": "markdown",
   "metadata": {
    "slideshow": {
     "slide_type": "slide"
    }
   },
   "source": [
    "#### Basic html page\n",
    "\n",
    "```\n",
    "<!DOCTYPE html>\n",
    "<html>\n",
    "<head>\n",
    "    <title>Web Page!</title>\n",
    "    <style>\n",
    "        body {background-color: powderblue;}\n",
    "        h1   {color: blue;}\n",
    "        p    {color: red;}\n",
    "    </style>\n",
    "    <link rel=\"stylesheet\" href=\"styles.css\">\n",
    "    <script>\n",
    "        document.getElementById(\"demo\").innerHTML = \"Hello JavaScript!\";\n",
    "    </script>\n",
    "</head>\n",
    "<body>\n",
    "    <h1>A Very Bold Header</h1>\n",
    "    <div style=\"background-color:lightblue\">\n",
    "        <p>This is a paragraph.</p>\n",
    "    </div>\n",
    "</body>\n",
    "</html>\n",
    "```"
   ]
  },
  {
   "cell_type": "markdown",
   "metadata": {
    "slideshow": {
     "slide_type": "slide"
    }
   },
   "source": [
    "### nyc weather history\n",
    "\n",
    "http://w1.weather.gov/data/obhistory/KNYC.html"
   ]
  },
  {
   "cell_type": "code",
   "execution_count": 1,
   "metadata": {
    "slideshow": {
     "slide_type": "fragment"
    }
   },
   "outputs": [],
   "source": [
    "knyc_link = 'http://w1.weather.gov/data/obhistory/KNYC.html'"
   ]
  },
  {
   "cell_type": "code",
   "execution_count": 2,
   "metadata": {
    "slideshow": {
     "slide_type": "fragment"
    }
   },
   "outputs": [
    {
     "data": {
      "text/plain": [
       "<Response [200]>"
      ]
     },
     "execution_count": 2,
     "metadata": {},
     "output_type": "execute_result"
    }
   ],
   "source": [
    "import requests\n",
    "\n",
    "knyc_page = requests.get(knyc_link)\n",
    "knyc_page"
   ]
  },
  {
   "cell_type": "code",
   "execution_count": 3,
   "metadata": {
    "slideshow": {
     "slide_type": "fragment"
    }
   },
   "outputs": [
    {
     "name": "stdout",
     "output_type": "stream",
     "text": [
      "b'<!DOCTYPE HTML PUBLIC \"-//W3C//DTD HTML 4.0 Transitional//EN\">\\r\\n\\t\\t\\t\\t\\t\\t\\t<html><meta name=\"Author\" content=\"Leon Minton\"><head><title>\\r\\n\\t\\t\\t\\t\\t\\t\\tNational Weather Service : Observed Weather for past 3 Days : New York City, Central Park</title>\\r\\n\\t\\t\\t\\t\\t\\t\\t<link rel=\"STYLESHEET\" type=\"text/css\" href=\"/images/weather/fcicons/main.css\"></head>\\r\\n\\t\\t\\t\\t\\t\\t\\t<body bgcolor=\"#ffffff\" leftmargin=\"0\" topmargin=\"0\" marginwidth=\"0\" marginheight=\"0\" background=\"/images/weather/fcicons/gray_background.gif\">\\r\\n\\t\\t\\t\\t\\t\\t\\t<table cellspacing=\"0\" cellpadding=\"0\" border=\"0\" width=\"670\" background=\"/images/weather/fcicons/topbanner.jpg\">\\r\\n\\t\\t\\t\\t\\t\\t\\t<tr><td align=\"right\" height=\"19\"><a href=\"http://weather.gov\"><span class=\"nwslink\">weather.gov</span></a>&nbsp;&nbsp;&nbsp;</td></tr></table>\\r\\n\\t\\t\\t\\t\\t\\t\\t<table cellspacing=\"0\" cellpadding=\"0\" border=\"0\" width=\"670\"><tr valign=\"top\">\\r\\n\\t\\t\\t\\t\\t\\t\\t<td rowspan=\"2\"><a href=\"http://www.noaa.gov\"><img src=\"/images/weather/fcicons/noaaleft.jpg\" alt=\"NOAA logo - Click to go to the NOAA homepage\"'\n"
     ]
    }
   ],
   "source": [
    "# the first 1000 characters of the page\n",
    "print(knyc_page.content[:1000])"
   ]
  },
  {
   "cell_type": "code",
   "execution_count": 4,
   "metadata": {
    "slideshow": {
     "slide_type": "slide"
    }
   },
   "outputs": [],
   "source": [
    "# need to parse some html!\n",
    "from bs4 import BeautifulSoup"
   ]
  },
  {
   "cell_type": "code",
   "execution_count": 5,
   "metadata": {
    "slideshow": {
     "slide_type": "fragment"
    }
   },
   "outputs": [],
   "source": [
    "knyc_soup = BeautifulSoup(knyc_page.content)"
   ]
  },
  {
   "cell_type": "code",
   "execution_count": 6,
   "metadata": {
    "slideshow": {
     "slide_type": "fragment"
    }
   },
   "outputs": [
    {
     "name": "stdout",
     "output_type": "stream",
     "text": [
      "<!DOCTYPE HTML PUBLIC \"-//W3C//DTD HTML 4.0 Transitional//EN\">\n",
      "<html>\n",
      " <meta content=\"Leon Minton\" name=\"Author\"/>\n",
      " <head>\n",
      "  <title>\n",
      "   National Weather Service : Observed Weather for past 3 Days : New York City, Central Park\n",
      "  </title>\n",
      "  <link href=\"/images/weather/fcicons/main.css\" rel=\"STYLESHEET\" type=\"text/css\"/>\n",
      " </head>\n",
      " <body background=\"/images/weather/fcicons/gray_background.gif\" bgcolor=\"#ffffff\" leftmargin=\"0\" marginheight=\"0\" marginwidth=\"0\" topmargin=\"0\">\n",
      "  <table background=\"/images/weather/fcicons/topbanner.jpg\" border=\"0\" cellpadding=\"0\" cellspacing=\"0\" width=\"670\">\n",
      "   <tr>\n",
      "    <td align=\"right\" height=\"19\">\n",
      "     <a href=\"http://weather.gov\">\n",
      "      <span class=\"nwslink\">\n",
      "       weather.gov\n",
      "      </span>\n",
      "     </a>\n",
      "    </td>\n",
      "   </tr>\n",
      "  </table>\n",
      "  <table border=\"0\" cellpadding=\"0\" cellspacing=\"0\" width=\"670\">\n",
      "   <tr valign=\"top\">\n",
      "    <td rowspan=\"2\">\n",
      "     <a href=\"http://www.noaa.gov\">\n",
      "      <img alt=\"NOAA logo - Click to go to the NOAA homepage\" border=\"0\" height=\"78\" sr\n"
     ]
    }
   ],
   "source": [
    "# first 1000 characters more legibly\n",
    "print(knyc_soup.prettify()[:1000])"
   ]
  },
  {
   "cell_type": "code",
   "execution_count": 7,
   "metadata": {
    "slideshow": {
     "slide_type": "slide"
    }
   },
   "outputs": [
    {
     "name": "stdout",
     "output_type": "stream",
     "text": [
      "<table border=\"0\" cellpadding=\"2\" cellspacing=\"3\" width=\"670\"><tr align=\"center\" bgcolor=\"#b0c4de\"><th rowspan=\"3\" width=\"17\">D<br/>a<br/>t<br/>e</th><th rowspan=\"3\" width=\"32\">Time<br/>(est)</th>\n",
      "<th rowspan=\"3\" width=\"80\">Wind<br/>(mph)</th><th rowspan=\"3\" width=\"40\">Vis.<br/>(mi.)</th><th rowspan=\"3\" width=\"80\">Weather</th><th rowspan=\"3\" width=\"65\">Sky Cond.</th>\n",
      "<th colspan=\"4\">Temperature (ºF)</th><th rowspan=\"3\" width=\"65\">Relative<br/>Humidity</th><th rowspan=\"3\" width=\"80\">Wind<br/>Chill<br/>(°F)</th><th rowspan=\"3\" width=\"80\">Heat<br/>Index<br/>(°F)</th><th colspan=\"2\">Pressure</th><th colspan=\"3\">Precipitation (in.)</th></tr>\n",
      "<tr align=\"center\" bgcolor=\"#b0c4de\"><th rowspan=\"2\" width=\"45\">Air</th><th rowspan=\"2\" width=\"26\">Dwpt</th><th colspan=\"2\">6 hour</th>\n",
      "<th rowspan=\"2\" width=\"40\">altimeter<br/>(in)</th><th rowspan=\"2\" width=\"40\">sea level<br/>(mb)</th><th rowspan=\"2\" width=\"24\">1 hr</th>\n",
      "<th rowspan=\"2\" width=\"24\">3 hr</th><th rowspan=\"2\" width=\"30\">6 hr</th></tr>\n",
      "<tr align=\"center\" bgcolor=\"#b0c4de\"><th width=\"26\">Max.</th><th width=\"26\">Min.</th></tr><tr align=\"center\" bgcolor=\"#eeeeee\" valign=\"top\"><td>16</td><td align=\"right\">07:51</td><td>W 10 G 17</td><td>4.00</td><td align=\"left\"> Fog/Mist</td><td>FEW008 SCT044</td><td>47</td><td>43</td>\n",
      "<td></td><td></td><td>86%</td><td>42</td><td>NA</td><td>29.86</td><td>1010.3</td><td></td><td></td><td></td></tr><tr align=\"center\" bgcolor=\"#f5f5f5\" valign=\"top\"><td>16</td><td align=\"right\">06:51</td><td>W 12 G 17</td><td>5.00</td><td align=\"left\"> Fog/Mist</td><td>OVC008</td><td>46</td><td>42</td>\n",
      "<td>47</td><td>45</td><td>86%</td><td>40</td><td>NA</td><td>29.85</td><td>1010.0</td><td></td><td></td><td>0.11</td></tr><tr align=\"center\" bgcolor=\"#eeeeee\" valign=\"top\"><td>16</td><td align=\"right\">05:51</td><td>SW 3 G 17</td><td>6.00</td><td align=\"left\"> Fog/Mist</td><td>OVC011</td><td>46</td><td>42</td>\n",
      "<td></td><td></td><td>86%</td><td>NA</td><td>NA</td><td>29.85</td><td>1009.9</td><td></td><td></td><td></td></tr><tr align=\"center\" bgcolor=\"#f5f5f5\" valign=\"top\"><td>16</td><td align=\"right\">04:51</td><td>Vrbl 5</td><td>7.00</td><td align=\"left\">Overcast</td><td>OVC016</td><td>46</td><td>41</td>\n",
      "<td></td><td></td><td>83%</td><td>44</td><td>NA</td><td>29.88</td><td>1010.9</td><td>0.02</td><td></td><td></td></tr><tr align=\"center\" bgcolor=\"#eeeeee\" valign=\"top\"><td>16</td><td align=\"right\">03:51</td><td>Vrbl 5</td><td>4.00</td><td align=\"left\"> Light Rain Fog/Mist</td><td>FEW012 FEW016 OVC025</td><td>46</td><td>43</td>\n",
      "<td></td><td></td><td>89%</td><td>44</td><td>NA</td><td>29.88</td><td>1011.1</td><td>0.03</td><td>0.09</td><td></td></tr><tr align=\"center\" bgcolor=\"#f5f5f5\" valign=\"top\"><td>16</td><td align=\"right\">02:51</td><td>Vrbl 3</td><td>4.00</td><td align=\"left\"> Light Rain Fog/Mist</td><td>OVC029</td><td>46</td><td>42</td>\n",
      "<td></td><td></td><td>86%</td><td>NA</td><td>NA</td><td>29.92</td><td>1012.4</td><td>0.04</td><td></td><td></td></tr><tr align=\"center\" bgcolor=\"#eeeeee\" valign=\"top\"><td>16</td><td align=\"right\">01:51</td><td>Vrbl 7</td><td>4.00</td><td align=\"left\"> Light Rain</td><td>FEW024 OVC037</td><td>46</td><td>41</td>\n",
      "<td></td><td></td><td>83%</td><td>42</td><td>NA</td><td>29.96</td><td>1013.8</td><td>0.02</td><td></td><td></td></tr><tr align=\"center\" bgcolor=\"#f5f5f5\" valign=\"top\"><td>16</td><td align=\"right\">00:51</td><td>Vrbl 6</td><td>6.00</td><td align=\"left\"> Light Rain</td><td>BKN041 BKN065 OVC080</td><td>47</td><td>41</td>\n",
      "<td>48</td><td>46</td><td>80%</td><td>44</td><td>NA</td><td>30.00</td><td>1015.0</td><td></td><td></td><td></td></tr><tr align=\"center\" bgcolor=\"#eeeeee\" valign=\"top\"><td>15</td><td align=\"right\">23:51</td><td>Vrbl 5</td><td>6.00</td><td align=\"left\"> Light Rain</td><td>FEW060 OVC085</td><td>46</td><td>40</td>\n",
      "<td></td><td></td><td>79%</td><td>44</td><td>NA</td><td>30.04</td><td>1016.3</td><td></td><td></td><td></td></tr><tr align=\"center\" bgcolor=\"#f5f5f5\" valign=\"top\"><td>15</td><td align=\"right\">22:51</td><td>S 7</td><td>8.00</td><td align=\"left\">Overcast</td><td>BKN070 BKN100 OVC120</td><td>47</td><td>39</td>\n",
      "<td></td><td></td><td>74%</td><td>44</td><td>NA</td><td>30.07</td><td>1017.5</td><td></td><td></td><td></td></tr><tr align=\"center\" bgcolor=\"#eeeeee\" valign=\"top\"><td>15</td><td align=\"right\">21:51</td><td>SE 3</td><td>10.00</td><td align=\"left\">Fair</td><td>CLR</td><td>47</td><td>32</td>\n",
      "<td></td><td></td><td>56%</td><td>NA</td><td>NA</td><td>30.10</td><td>1018.4</td><td></td><td></td><td></td></tr><tr align=\"center\" bgcolor=\"#f5f5f5\" valign=\"top\"><td>15</td><td align=\"right\">20:51</td><td>SW 5</td><td>10.00</td><td align=\"left\">Fair</td><td>CLR</td><td>47</td><td>31</td>\n",
      "<td></td><td></td><td>54%</td><td>45</td><td>NA</td><td>30.12</td><td>1019.3</td><td></td><td></td><td></td></tr><tr align=\"center\" bgcolor=\"#eeeeee\" valign=\"top\"><td>15</td><td align=\"right\">19:51</td><td>W 7</td><td>10.00</td><td align=\"left\">Fair</td><td>CLR</td><td>47</td><td>31</td>\n",
      "<td></td><td></td><td>54%</td><td>44</td><td>NA</td><td>30.14</td><td>1019.8</td><td></td><td></td><td></td></tr><tr align=\"center\" bgcolor=\"#f5f5f5\" valign=\"top\"><td>15</td><td align=\"right\">18:51</td><td>Calm</td><td>10.00</td><td align=\"left\">Fair</td><td>CLR</td><td>48</td><td>30</td>\n",
      "<td>50</td><td>47</td><td>50%</td><td>NA</td><td>NA</td><td>30.15</td><td>1020.1</td><td></td><td></td><td></td></tr><tr align=\"center\" bgcolor=\"#eeeeee\" valign=\"top\"><td>15</td><td align=\"right\">17:51</td><td>NW 3</td><td>10.00</td><td align=\"left\">Fair</td><td>CLR</td><td>48</td><td>29</td>\n",
      "<td></td><td></td><td>48%</td><td>NA</td><td>NA</td><td>30.15</td><td>1020.1</td><td></td><td></td><td></td></tr><tr align=\"center\" bgcolor=\"#f5f5f5\" valign=\"top\"><td>15</td><td align=\"right\">16:51</td><td>NW 5</td><td>10.00</td><td align=\"left\">Fair</td><td>CLR</td><td>49</td><td>28</td>\n",
      "<td></td><td></td><td>44%</td><td>47</td><td>NA</td><td>30.14</td><td>1019.7</td><td></td><td></td><td></td></tr><tr align=\"center\" bgcolor=\"#eeeeee\" valign=\"top\"><td>15</td><td align=\"right\">15:51</td><td>Calm</td><td>10.00</td><td align=\"left\">Fair</td><td>CLR</td><td>50</td><td>29</td>\n",
      "<td></td><td></td><td>44%</td><td>NA</td><td>NA</td><td>30.15</td><td>1020.1</td><td></td><td></td><td></td></tr><tr align=\"center\" bgcolor=\"#f5f5f5\" valign=\"top\"><td>15</td><td align=\"right\">14:51</td><td>W 6</td><td>10.00</td><td align=\"left\">Fair</td><td>CLR</td><td>50</td><td>29</td>\n",
      "<td></td><td></td><td>44%</td><td>48</td><td>NA</td><td>30.16</td><td>1020.4</td><td></td><td></td><td></td></tr><tr align=\"center\" bgcolor=\"#eeeeee\" valign=\"top\"><td>15</td><td align=\"right\">13:51</td><td>Vrbl 7 G 17</td><td>10.00</td><td align=\"left\">Fair</td><td>CLR</td><td>50</td><td>29</td>\n",
      "<td></td><td></td><td>44%</td><td>47</td><td>NA</td><td>30.17</td><td>1020.7</td><td></td><td></td><td></td></tr><tr align=\"center\" bgcolor=\"#f5f5f5\" valign=\"top\"><td>15</td><td align=\"right\">12:51</td><td>W 7</td><td>10.00</td><td align=\"left\">Fair</td><td>CLR</td><td>49</td><td>29</td>\n",
      "<td>49</td><td>44</td><td>46%</td><td>46</td><td>NA</td><td>30.18</td><td>1021.0</td><td></td><td></td><td></td></tr><tr align=\"center\" bgcolor=\"#eeeeee\" valign=\"top\"><td>15</td><td align=\"right\">11:51</td><td>NA</td><td>10.00</td><td align=\"left\">Fair</td><td>CLR</td><td>48</td><td>30</td>\n",
      "<td></td><td></td><td>50%</td><td>NA</td><td>NA</td><td>30.19</td><td>1021.4</td><td></td><td></td><td></td></tr><tr align=\"center\" bgcolor=\"#f5f5f5\" valign=\"top\"><td>15</td><td align=\"right\">10:51</td><td>Vrbl 6</td><td>10.00</td><td align=\"left\">Fair</td><td>CLR</td><td>47</td><td>30</td>\n",
      "<td></td><td></td><td>52%</td><td>44</td><td>NA</td><td>30.21</td><td>1022.3</td><td></td><td></td><td></td></tr><tr align=\"center\" bgcolor=\"#eeeeee\" valign=\"top\"><td>15</td><td align=\"right\">09:51</td><td>W 12 G 20</td><td>10.00</td><td align=\"left\">Fair</td><td>CLR</td><td>46</td><td>31</td>\n",
      "<td></td><td></td><td>56%</td><td>40</td><td>NA</td><td>30.22</td><td>1022.5</td><td></td><td></td><td></td></tr><tr align=\"center\" bgcolor=\"#f5f5f5\" valign=\"top\"><td>15</td><td align=\"right\">08:51</td><td>W 7</td><td>10.00</td><td align=\"left\">Fair</td><td>CLR</td><td>45</td><td>36</td>\n",
      "<td></td><td></td><td>71%</td><td>41</td><td>NA</td><td>30.22</td><td>1022.4</td><td></td><td></td><td></td></tr><tr align=\"center\" bgcolor=\"#eeeeee\" valign=\"top\"><td>15</td><td align=\"right\">07:51</td><td>W 6</td><td>8.00</td><td align=\"left\">Fair</td><td>CLR</td><td>44</td><td>39</td>\n",
      "<td></td><td></td><td>83%</td><td>41</td><td>NA</td><td>30.20</td><td>1021.8</td><td></td><td></td><td></td></tr><tr align=\"center\" bgcolor=\"#f5f5f5\" valign=\"top\"><td>15</td><td align=\"right\">06:51</td><td>W 8</td><td>9.00</td><td align=\"left\">Fair</td><td>CLR</td><td>44</td><td>39</td>\n",
      "<td>44</td><td>41</td><td>83%</td><td>39</td><td>NA</td><td>30.18</td><td>1021.3</td><td></td><td></td><td></td></tr><tr align=\"center\" bgcolor=\"#eeeeee\" valign=\"top\"><td>15</td><td align=\"right\">05:51</td><td>W 5</td><td>8.00</td><td align=\"left\">A Few Clouds</td><td>FEW049</td><td>43</td><td>40</td>\n",
      "<td></td><td></td><td>89%</td><td>40</td><td>NA</td><td>30.15</td><td>1020.3</td><td></td><td></td><td></td></tr><tr align=\"center\" bgcolor=\"#f5f5f5\" valign=\"top\"><td>15</td><td align=\"right\">04:51</td><td>Vrbl 3</td><td>8.00</td><td align=\"left\">Fair</td><td>CLR</td><td>43</td><td>40</td>\n",
      "<td></td><td></td><td>89%</td><td>NA</td><td>NA</td><td>30.14</td><td>1019.8</td><td></td><td></td><td></td></tr><tr align=\"center\" bgcolor=\"#eeeeee\" valign=\"top\"><td>15</td><td align=\"right\">03:51</td><td>W 7</td><td>8.00</td><td align=\"left\">Mostly Cloudy</td><td>BKN009</td><td>43</td><td>40</td>\n",
      "<td></td><td></td><td>89%</td><td>39</td><td>NA</td><td>30.13</td><td>1019.6</td><td></td><td></td><td></td></tr><tr align=\"center\" bgcolor=\"#f5f5f5\" valign=\"top\"><td>15</td><td align=\"right\">02:51</td><td>W 7</td><td>6.00</td><td align=\"left\"> Fog/Mist</td><td>OVC005</td><td>43</td><td>41</td>\n",
      "<td></td><td></td><td>93%</td><td>39</td><td>NA</td><td>30.14</td><td>1019.8</td><td></td><td></td><td></td></tr><tr align=\"center\" bgcolor=\"#eeeeee\" valign=\"top\"><td>15</td><td align=\"right\">01:51</td><td>Calm</td><td>3.00</td><td align=\"left\"> Fog/Mist</td><td>OVC004</td><td>43</td><td>41</td>\n",
      "<td></td><td></td><td>93%</td><td>NA</td><td>NA</td><td>30.13</td><td>1019.6</td><td></td><td></td><td></td></tr><tr align=\"center\" bgcolor=\"#f5f5f5\" valign=\"top\"><td>15</td><td align=\"right\">00:51</td><td>W 3</td><td>1.25</td><td align=\"left\"> Fog/Mist</td><td>OVC002</td><td>42</td><td>40</td>\n",
      "<td>42</td><td>41</td><td>92%</td><td>NA</td><td>NA</td><td>30.14</td><td>1019.7</td><td></td><td></td><td></td></tr><tr align=\"center\" bgcolor=\"#eeeeee\" valign=\"top\"><td>15</td><td align=\"right\">00:05</td><td>NW 6</td><td>2.50</td><td align=\"left\"> Fog/Mist</td><td>BKN003 OVC008</td><td>41</td><td>40</td>\n",
      "<td></td><td></td><td>96%</td><td>37</td><td>NA</td><td>30.14</td><td>NA</td><td></td><td></td><td></td></tr><tr align=\"center\" bgcolor=\"#f5f5f5\" valign=\"top\"><td>14</td><td align=\"right\">23:51</td><td>Vrbl 5</td><td>3.00</td><td align=\"left\"> Fog/Mist</td><td>BKN007 OVC010</td><td>42</td><td>40</td>\n",
      "<td></td><td></td><td>92%</td><td>39</td><td>NA</td><td>30.14</td><td>1019.7</td><td></td><td></td><td></td></tr><tr align=\"center\" bgcolor=\"#eeeeee\" valign=\"top\"><td>14</td><td align=\"right\">22:51</td><td>Calm</td><td>2.00</td><td align=\"left\"> Fog/Mist</td><td>OVC004</td><td>42</td><td>40</td>\n",
      "<td></td><td></td><td>92%</td><td>NA</td><td>NA</td><td>30.14</td><td>1019.8</td><td></td><td></td><td></td></tr><tr align=\"center\" bgcolor=\"#f5f5f5\" valign=\"top\"><td>14</td><td align=\"right\">21:51</td><td>Calm</td><td>1.75</td><td align=\"left\"> Fog/Mist</td><td>OVC006</td><td>42</td><td>41</td>\n",
      "<td></td><td></td><td>96%</td><td>NA</td><td>NA</td><td>30.14</td><td>1019.9</td><td></td><td></td><td></td></tr><tr align=\"center\" bgcolor=\"#eeeeee\" valign=\"top\"><td>14</td><td align=\"right\">20:51</td><td>NE 5</td><td>3.00</td><td align=\"left\"> Fog/Mist</td><td>OVC006</td><td>42</td><td>40</td>\n",
      "<td></td><td></td><td>92%</td><td>39</td><td>NA</td><td>30.16</td><td>1020.4</td><td></td><td></td><td></td></tr><tr align=\"center\" bgcolor=\"#f5f5f5\" valign=\"top\"><td>14</td><td align=\"right\">19:51</td><td>NE 3</td><td>4.00</td><td align=\"left\"> Fog/Mist</td><td>OVC006</td><td>42</td><td>39</td>\n",
      "<td></td><td></td><td>89%</td><td>NA</td><td>NA</td><td>30.17</td><td>1020.7</td><td></td><td></td><td></td></tr><tr align=\"center\" bgcolor=\"#eeeeee\" valign=\"top\"><td>14</td><td align=\"right\">18:51</td><td>E 5</td><td>4.00</td><td align=\"left\"> Fog/Mist</td><td>OVC009</td><td>42</td><td>40</td>\n",
      "<td>46</td><td>41</td><td>92%</td><td>39</td><td>NA</td><td>30.17</td><td>1020.7</td><td>0.01</td><td></td><td>0.07</td></tr><tr align=\"center\" bgcolor=\"#f5f5f5\" valign=\"top\"><td>14</td><td align=\"right\">17:51</td><td>E 7</td><td>4.00</td><td align=\"left\"> Light Rain Fog/Mist</td><td>OVC013</td><td>42</td><td>39</td>\n",
      "<td></td><td></td><td>89%</td><td>38</td><td>NA</td><td>30.18</td><td>1021.2</td><td></td><td></td><td></td></tr><tr align=\"center\" bgcolor=\"#eeeeee\" valign=\"top\"><td>14</td><td align=\"right\">16:51</td><td>NE 3</td><td>8.00</td><td align=\"left\">Overcast</td><td>BKN021 OVC032</td><td>41</td><td>37</td>\n",
      "<td></td><td></td><td>86%</td><td>NA</td><td>NA</td><td>30.19</td><td>1021.4</td><td>0.06</td><td></td><td></td></tr><tr align=\"center\" bgcolor=\"#f5f5f5\" valign=\"top\"><td>14</td><td align=\"right\">15:51</td><td>Vrbl 6</td><td>9.00</td><td align=\"left\">Overcast</td><td>OVC022</td><td>45</td><td>35</td>\n",
      "<td></td><td></td><td>68%</td><td>42</td><td>NA</td><td>30.20</td><td>1021.8</td><td></td><td></td><td></td></tr><tr align=\"center\" bgcolor=\"#eeeeee\" valign=\"top\"><td>14</td><td align=\"right\">14:51</td><td>SE 7</td><td>10.00</td><td align=\"left\">Overcast</td><td>BKN025 BKN055 OVC085</td><td>46</td><td>34</td>\n",
      "<td></td><td></td><td>63%</td><td>42</td><td>NA</td><td>30.20</td><td>1021.8</td><td></td><td></td><td></td></tr><tr align=\"center\" bgcolor=\"#f5f5f5\" valign=\"top\"><td>14</td><td align=\"right\">13:51</td><td>Vrbl 3</td><td>10.00</td><td align=\"left\">Overcast</td><td>OVC023</td><td>45</td><td>31</td>\n",
      "<td></td><td></td><td>58%</td><td>NA</td><td>NA</td><td>30.25</td><td>1023.5</td><td></td><td></td><td></td></tr><tr align=\"center\" bgcolor=\"#eeeeee\" valign=\"top\"><td>14</td><td align=\"right\">12:51</td><td>E 6</td><td>10.00</td><td align=\"left\">Mostly Cloudy</td><td>BKN100</td><td>44</td><td>31</td>\n",
      "<td>45</td><td>39</td><td>60%</td><td>41</td><td>NA</td><td>30.27</td><td>1024.0</td><td></td><td></td><td></td></tr><tr align=\"center\" bgcolor=\"#f5f5f5\" valign=\"top\"><td>14</td><td align=\"right\">11:51</td><td>Vrbl 7</td><td>10.00</td><td align=\"left\">A Few Clouds</td><td>FEW021</td><td>44</td><td>34</td>\n",
      "<td></td><td></td><td>68%</td><td>40</td><td>NA</td><td>30.30</td><td>1025.1</td><td></td><td></td><td></td></tr><tr align=\"center\" bgcolor=\"#eeeeee\" valign=\"top\"><td>14</td><td align=\"right\">10:51</td><td>SE 6</td><td>10.00</td><td align=\"left\">Mostly Cloudy</td><td>BKN019</td><td>43</td><td>35</td>\n",
      "<td></td><td></td><td>74%</td><td>39</td><td>NA</td><td>30.36</td><td>1027.2</td><td></td><td></td><td></td></tr><tr align=\"center\" bgcolor=\"#f5f5f5\" valign=\"top\"><td>14</td><td align=\"right\">09:51</td><td>SE 7</td><td>10.00</td><td align=\"left\">Fair</td><td>CLR</td><td>43</td><td>36</td>\n",
      "<td></td><td></td><td>76%</td><td>39</td><td>NA</td><td>NA</td><td>NA</td><td></td><td></td><td></td></tr><tr align=\"center\" bgcolor=\"#eeeeee\" valign=\"top\"><td>14</td><td align=\"right\">08:51</td><td>E 6</td><td>8.00</td><td align=\"left\">Fair</td><td>CLR</td><td>41</td><td>35</td>\n",
      "<td></td><td></td><td>79%</td><td>37</td><td>NA</td><td>30.38</td><td>1027.8</td><td></td><td></td><td></td></tr><tr align=\"center\" bgcolor=\"#f5f5f5\" valign=\"top\"><td>14</td><td align=\"right\">07:51</td><td>Vrbl 3</td><td>6.00</td><td align=\"left\"> Fog/Mist</td><td>SCT007</td><td>40</td><td>36</td>\n",
      "<td></td><td></td><td>86%</td><td>NA</td><td>NA</td><td>30.36</td><td>1027.3</td><td></td><td></td><td></td></tr><tr align=\"center\" bgcolor=\"#eeeeee\" valign=\"top\"><td>14</td><td align=\"right\">06:51</td><td>Vrbl 5</td><td>6.00</td><td align=\"left\"> Fog/Mist</td><td>OVC006</td><td>39</td><td>36</td>\n",
      "<td>42</td><td>39</td><td>89%</td><td>35</td><td>NA</td><td>30.38</td><td>1028.0</td><td></td><td></td><td></td></tr><tr align=\"center\" bgcolor=\"#f5f5f5\" valign=\"top\"><td>14</td><td align=\"right\">05:51</td><td>Calm</td><td>6.00</td><td align=\"left\"> Fog/Mist</td><td>BKN008</td><td>40</td><td>37</td>\n",
      "<td></td><td></td><td>89%</td><td>NA</td><td>NA</td><td>30.37</td><td>1027.8</td><td></td><td></td><td></td></tr><tr align=\"center\" bgcolor=\"#eeeeee\" valign=\"top\"><td>14</td><td align=\"right\">04:51</td><td>NE 5</td><td>6.00</td><td align=\"left\"> Fog/Mist</td><td>OVC009</td><td>41</td><td>38</td>\n",
      "<td></td><td></td><td>89%</td><td>38</td><td>NA</td><td>30.38</td><td>1027.8</td><td></td><td></td><td></td></tr><tr align=\"center\" bgcolor=\"#f5f5f5\" valign=\"top\"><td>14</td><td align=\"right\">03:51</td><td>Calm</td><td>6.00</td><td align=\"left\"> Fog/Mist</td><td>OVC009</td><td>41</td><td>38</td>\n",
      "<td></td><td></td><td>89%</td><td>NA</td><td>NA</td><td>30.38</td><td>1027.9</td><td></td><td></td><td></td></tr><tr align=\"center\" bgcolor=\"#eeeeee\" valign=\"top\"><td>14</td><td align=\"right\">02:51</td><td>NE 5</td><td>8.00</td><td align=\"left\">Fair</td><td>CLR</td><td>41</td><td>38</td>\n",
      "<td></td><td></td><td>89%</td><td>38</td><td>NA</td><td>30.39</td><td>1028.4</td><td></td><td></td><td></td></tr><tr align=\"center\" bgcolor=\"#f5f5f5\" valign=\"top\"><td>14</td><td align=\"right\">01:51</td><td>Calm</td><td>8.00</td><td align=\"left\">Fair</td><td>CLR</td><td>42</td><td>37</td>\n",
      "<td></td><td></td><td>82%</td><td>NA</td><td>NA</td><td>30.40</td><td>1028.6</td><td></td><td></td><td></td></tr><tr align=\"center\" bgcolor=\"#eeeeee\" valign=\"top\"><td>14</td><td align=\"right\">00:51</td><td>Calm</td><td>8.00</td><td align=\"left\">Fair</td><td>CLR</td><td>42</td><td>38</td>\n",
      "<td>45</td><td>41</td><td>85%</td><td>NA</td><td>NA</td><td>30.38</td><td>1027.9</td><td></td><td></td><td></td></tr><tr align=\"center\" bgcolor=\"#f5f5f5\" valign=\"top\"><td>13</td><td align=\"right\">23:51</td><td>NW 3</td><td>8.00</td><td align=\"left\">Fair</td><td>CLR</td><td>42</td><td>37</td>\n",
      "<td></td><td></td><td>82%</td><td>NA</td><td>NA</td><td>30.40</td><td>1028.5</td><td></td><td></td><td></td></tr><tr align=\"center\" bgcolor=\"#eeeeee\" valign=\"top\"><td>13</td><td align=\"right\">22:51</td><td>Calm</td><td>8.00</td><td align=\"left\">Mostly Cloudy</td><td>BKN013</td><td>42</td><td>37</td>\n",
      "<td></td><td></td><td>82%</td><td>NA</td><td>NA</td><td>30.40</td><td>1028.6</td><td></td><td></td><td></td></tr><tr align=\"center\" bgcolor=\"#f5f5f5\" valign=\"top\"><td>13</td><td align=\"right\">21:51</td><td>Calm</td><td>8.00</td><td align=\"left\">Overcast</td><td>OVC014</td><td>44</td><td>38</td>\n",
      "<td></td><td></td><td>79%</td><td>NA</td><td>NA</td><td>30.40</td><td>1028.5</td><td></td><td></td><td></td></tr><tr align=\"center\" bgcolor=\"#eeeeee\" valign=\"top\"><td>13</td><td align=\"right\">20:51</td><td>Calm</td><td>8.00</td><td align=\"left\">Overcast</td><td>OVC015</td><td>44</td><td>38</td>\n",
      "<td></td><td></td><td>79%</td><td>NA</td><td>NA</td><td>30.40</td><td>1028.5</td><td></td><td></td><td></td></tr><tr align=\"center\" bgcolor=\"#f5f5f5\" valign=\"top\"><td>13</td><td align=\"right\">19:51</td><td>Calm</td><td>8.00</td><td align=\"left\">Overcast</td><td>OVC016</td><td>44</td><td>38</td>\n",
      "<td></td><td></td><td>79%</td><td>NA</td><td>NA</td><td>30.39</td><td>1028.2</td><td></td><td></td><td></td></tr><tr align=\"center\" bgcolor=\"#eeeeee\" valign=\"top\"><td>13</td><td align=\"right\">18:51</td><td>NW 3</td><td>9.00</td><td align=\"left\">Overcast</td><td>OVC016</td><td>44</td><td>38</td>\n",
      "<td>46</td><td>44</td><td>79%</td><td>NA</td><td>NA</td><td>30.38</td><td>1027.9</td><td></td><td></td><td></td></tr><tr align=\"center\" bgcolor=\"#f5f5f5\" valign=\"top\"><td>13</td><td align=\"right\">17:51</td><td>Calm</td><td>10.00</td><td align=\"left\">Overcast</td><td>OVC018</td><td>44</td><td>37</td>\n",
      "<td></td><td></td><td>76%</td><td>NA</td><td>NA</td><td>30.36</td><td>1027.3</td><td></td><td></td><td></td></tr><tr align=\"center\" bgcolor=\"#eeeeee\" valign=\"top\"><td>13</td><td align=\"right\">16:51</td><td>N 5</td><td>10.00</td><td align=\"left\">Overcast</td><td>BKN019 OVC024</td><td>45</td><td>36</td>\n",
      "<td></td><td></td><td>71%</td><td>42</td><td>NA</td><td>30.36</td><td>1027.2</td><td></td><td></td><td></td></tr><tr align=\"center\" bgcolor=\"#f5f5f5\" valign=\"top\"><td>13</td><td align=\"right\">15:51</td><td>Calm</td><td>10.00</td><td align=\"left\">Overcast</td><td>BKN017 OVC028</td><td>45</td><td>36</td>\n",
      "<td></td><td></td><td>71%</td><td>NA</td><td>NA</td><td>30.35</td><td>1027.1</td><td></td><td></td><td></td></tr><tr align=\"center\" bgcolor=\"#eeeeee\" valign=\"top\"><td>13</td><td align=\"right\">14:51</td><td>NE 6</td><td>10.00</td><td align=\"left\">Overcast</td><td>OVC011</td><td>45</td><td>38</td>\n",
      "<td></td><td></td><td>77%</td><td>42</td><td>NA</td><td>30.35</td><td>1027.0</td><td></td><td></td><td></td></tr><tr align=\"center\" bgcolor=\"#f5f5f5\" valign=\"top\"><td>13</td><td align=\"right\">13:51</td><td>N 6</td><td>10.00</td><td align=\"left\">Overcast</td><td>OVC011</td><td>45</td><td>37</td>\n",
      "<td></td><td></td><td>74%</td><td>42</td><td>NA</td><td>30.36</td><td>1027.2</td><td></td><td></td><td></td></tr><tr align=\"center\" bgcolor=\"#eeeeee\" valign=\"top\"><td>13</td><td align=\"right\">12:51</td><td>NE 6</td><td>6.00</td><td align=\"left\">Overcast with Haze</td><td>OVC012</td><td>45</td><td>38</td>\n",
      "<td>45</td><td>38</td><td>77%</td><td>42</td><td>NA</td><td>30.37</td><td>1027.7</td><td></td><td></td><td></td></tr><tr align=\"center\" bgcolor=\"#f5f5f5\" valign=\"top\"><td>13</td><td align=\"right\">11:51</td><td>Calm</td><td>10.00</td><td align=\"left\">Overcast</td><td>OVC012</td><td>44</td><td>35</td>\n",
      "<td></td><td></td><td>71%</td><td>NA</td><td>NA</td><td>30.41</td><td>1028.9</td><td></td><td></td><td></td></tr><tr align=\"center\" bgcolor=\"#eeeeee\" valign=\"top\"><td>13</td><td align=\"right\">10:51</td><td>NE 5</td><td>10.00</td><td align=\"left\">Overcast</td><td>BKN015 OVC035</td><td>43</td><td>34</td>\n",
      "<td></td><td></td><td>71%</td><td>40</td><td>NA</td><td>30.43</td><td>1029.7</td><td></td><td></td><td></td></tr><tr align=\"center\" bgcolor=\"#f5f5f5\" valign=\"top\"><td>13</td><td align=\"right\">09:51</td><td>Vrbl 6</td><td>10.00</td><td align=\"left\">Overcast</td><td>OVC015</td><td>41</td><td>33</td>\n",
      "<td></td><td></td><td>73%</td><td>37</td><td>NA</td><td>30.45</td><td>1030.2</td><td></td><td></td><td></td></tr><tr align=\"center\" bgcolor=\"#eeeeee\" valign=\"top\"><td>13</td><td align=\"right\">08:51</td><td>NE 8</td><td>10.00</td><td align=\"left\">Overcast</td><td>OVC013</td><td>41</td><td>33</td>\n",
      "<td></td><td></td><td>73%</td><td>36</td><td>NA</td><td>30.43</td><td>1029.5</td><td></td><td></td><td></td></tr><tr align=\"center\" bgcolor=\"#b0c4de\"><th rowspan=\"3\">D<br/>a<br/>t<br/>e</th><th rowspan=\"3\">Time<br/>(est)</th>\n",
      "<th rowspan=\"3\">Wind<br/>(mph)</th><th rowspan=\"3\">Vis.<br/>(mi.)</th><th rowspan=\"3\">Weather</th><th align=\"CENTER\" rowspan=\"3\">Sky Cond.</th>\n",
      "<th rowspan=\"2\">Air</th><th rowspan=\"2\">Dwpt</th><th>Max.</th><th>Min.</th><th rowspan=\"3\" width=\"65\">Relative<br/>Humidity</th><th rowspan=\"3\" width=\"80\">Wind<br/>Chill<br/>(°F)</th><th rowspan=\"3\" width=\"80\">Heat<br/>Index<br/>(°F)</th><th rowspan=\"2\">altimeter<br/>(in.)</th><th rowspan=\"2\">sea level<br/>(mb)</th>\n",
      "<th rowspan=\"2\">1 hr</th><th rowspan=\"2\">3 hr</th><th rowspan=\"2\">6 hr</th></tr>\n",
      "<tr align=\"center\" bgcolor=\"#b0c4de\"><th colspan=\"2\">6 hour</th></tr><tr align=\"center\" bgcolor=\"#b0c4de\">\n",
      "<th colspan=\"4\">Temperature (ºF)</th><th colspan=\"2\">Pressure</th><th colspan=\"3\">Precipitation (in.)</th></tr></table>\n"
     ]
    }
   ],
   "source": [
    "# print the 4rd table in the page\n",
    "print(knyc_soup.find_all('table')[3])"
   ]
  },
  {
   "cell_type": "code",
   "execution_count": 8,
   "metadata": {
    "slideshow": {
     "slide_type": "slide"
    }
   },
   "outputs": [
    {
     "data": {
      "text/html": [
       "<div>\n",
       "<style scoped>\n",
       "    .dataframe tbody tr th:only-of-type {\n",
       "        vertical-align: middle;\n",
       "    }\n",
       "\n",
       "    .dataframe tbody tr th {\n",
       "        vertical-align: top;\n",
       "    }\n",
       "\n",
       "    .dataframe thead th {\n",
       "        text-align: right;\n",
       "    }\n",
       "</style>\n",
       "<table border=\"1\" class=\"dataframe\">\n",
       "  <thead>\n",
       "    <tr style=\"text-align: right;\">\n",
       "      <th></th>\n",
       "      <th>0</th>\n",
       "      <th>1</th>\n",
       "      <th>2</th>\n",
       "      <th>3</th>\n",
       "      <th>4</th>\n",
       "      <th>5</th>\n",
       "      <th>6</th>\n",
       "      <th>7</th>\n",
       "      <th>8</th>\n",
       "      <th>9</th>\n",
       "      <th>10</th>\n",
       "      <th>11</th>\n",
       "      <th>12</th>\n",
       "      <th>13</th>\n",
       "      <th>14</th>\n",
       "      <th>15</th>\n",
       "      <th>16</th>\n",
       "      <th>17</th>\n",
       "    </tr>\n",
       "  </thead>\n",
       "  <tbody>\n",
       "    <tr>\n",
       "      <th>0</th>\n",
       "      <td>16</td>\n",
       "      <td>07:51</td>\n",
       "      <td>W 10 G 17</td>\n",
       "      <td>4.00</td>\n",
       "      <td>Fog/Mist</td>\n",
       "      <td>FEW008 SCT044</td>\n",
       "      <td>47</td>\n",
       "      <td>43</td>\n",
       "      <td></td>\n",
       "      <td></td>\n",
       "      <td>86%</td>\n",
       "      <td>42</td>\n",
       "      <td>NA</td>\n",
       "      <td>29.86</td>\n",
       "      <td>1010.3</td>\n",
       "      <td></td>\n",
       "      <td></td>\n",
       "      <td></td>\n",
       "    </tr>\n",
       "    <tr>\n",
       "      <th>1</th>\n",
       "      <td>16</td>\n",
       "      <td>06:51</td>\n",
       "      <td>W 12 G 17</td>\n",
       "      <td>5.00</td>\n",
       "      <td>Fog/Mist</td>\n",
       "      <td>OVC008</td>\n",
       "      <td>46</td>\n",
       "      <td>42</td>\n",
       "      <td>47</td>\n",
       "      <td>45</td>\n",
       "      <td>86%</td>\n",
       "      <td>40</td>\n",
       "      <td>NA</td>\n",
       "      <td>29.85</td>\n",
       "      <td>1010.0</td>\n",
       "      <td></td>\n",
       "      <td></td>\n",
       "      <td>0.11</td>\n",
       "    </tr>\n",
       "    <tr>\n",
       "      <th>2</th>\n",
       "      <td>16</td>\n",
       "      <td>05:51</td>\n",
       "      <td>SW 3 G 17</td>\n",
       "      <td>6.00</td>\n",
       "      <td>Fog/Mist</td>\n",
       "      <td>OVC011</td>\n",
       "      <td>46</td>\n",
       "      <td>42</td>\n",
       "      <td></td>\n",
       "      <td></td>\n",
       "      <td>86%</td>\n",
       "      <td>NA</td>\n",
       "      <td>NA</td>\n",
       "      <td>29.85</td>\n",
       "      <td>1009.9</td>\n",
       "      <td></td>\n",
       "      <td></td>\n",
       "      <td></td>\n",
       "    </tr>\n",
       "    <tr>\n",
       "      <th>3</th>\n",
       "      <td>16</td>\n",
       "      <td>04:51</td>\n",
       "      <td>Vrbl 5</td>\n",
       "      <td>7.00</td>\n",
       "      <td>Overcast</td>\n",
       "      <td>OVC016</td>\n",
       "      <td>46</td>\n",
       "      <td>41</td>\n",
       "      <td></td>\n",
       "      <td></td>\n",
       "      <td>83%</td>\n",
       "      <td>44</td>\n",
       "      <td>NA</td>\n",
       "      <td>29.88</td>\n",
       "      <td>1010.9</td>\n",
       "      <td>0.02</td>\n",
       "      <td></td>\n",
       "      <td></td>\n",
       "    </tr>\n",
       "    <tr>\n",
       "      <th>4</th>\n",
       "      <td>16</td>\n",
       "      <td>03:51</td>\n",
       "      <td>Vrbl 5</td>\n",
       "      <td>4.00</td>\n",
       "      <td>Light Rain Fog/Mist</td>\n",
       "      <td>FEW012 FEW016 OVC025</td>\n",
       "      <td>46</td>\n",
       "      <td>43</td>\n",
       "      <td></td>\n",
       "      <td></td>\n",
       "      <td>89%</td>\n",
       "      <td>44</td>\n",
       "      <td>NA</td>\n",
       "      <td>29.88</td>\n",
       "      <td>1011.1</td>\n",
       "      <td>0.03</td>\n",
       "      <td>0.09</td>\n",
       "      <td></td>\n",
       "    </tr>\n",
       "  </tbody>\n",
       "</table>\n",
       "</div>"
      ],
      "text/plain": [
       "    0      1          2     3                     4                     5   6  \\\n",
       "0  16  07:51  W 10 G 17  4.00              Fog/Mist         FEW008 SCT044  47   \n",
       "1  16  06:51  W 12 G 17  5.00              Fog/Mist                OVC008  46   \n",
       "2  16  05:51  SW 3 G 17  6.00              Fog/Mist                OVC011  46   \n",
       "3  16  04:51     Vrbl 5  7.00              Overcast                OVC016  46   \n",
       "4  16  03:51     Vrbl 5  4.00   Light Rain Fog/Mist  FEW012 FEW016 OVC025  46   \n",
       "\n",
       "    7   8   9   10  11  12     13      14    15    16    17  \n",
       "0  43          86%  42  NA  29.86  1010.3                    \n",
       "1  42  47  45  86%  40  NA  29.85  1010.0              0.11  \n",
       "2  42          86%  NA  NA  29.85  1009.9                    \n",
       "3  41          83%  44  NA  29.88  1010.9  0.02              \n",
       "4  43          89%  44  NA  29.88  1011.1  0.03  0.09        "
      ]
     },
     "execution_count": 8,
     "metadata": {},
     "output_type": "execute_result"
    }
   ],
   "source": [
    "# extract data from the 4th table in the page into a dataframe\n",
    "import pandas as pd\n",
    "data_table = knyc_soup.find_all('table')[3]\n",
    "\n",
    "table_rows = data_table.find_all('tr') # get rows from table\n",
    "\n",
    "data = []\n",
    "for idx,tr in enumerate(table_rows):\n",
    "    if idx < 3 :                       # skip header rows\n",
    "        continue\n",
    "    td = tr.find_all('td')             # get table cells\n",
    "    row = [elem.text for elem in td]   # pull text from cells\n",
    "    data.append(row)                   # add to dataset\n",
    "    \n",
    "pd.DataFrame(data).head()"
   ]
  },
  {
   "cell_type": "markdown",
   "metadata": {
    "slideshow": {
     "slide_type": "slide"
    }
   },
   "source": [
    "#### central park weather history summary\n",
    "https://www.wunderground.com/history/daily/us/ny/new-york-city/KNYC/date/2018-12-3?cm_ven=localwx_history"
   ]
  },
  {
   "cell_type": "code",
   "execution_count": 9,
   "metadata": {
    "slideshow": {
     "slide_type": "fragment"
    }
   },
   "outputs": [],
   "source": [
    "wu_link = 'https://www.wunderground.com/history/daily/us/ny/new-york-city/KNYC/date/2018-12-3?cm_ven=localwx_history'"
   ]
  },
  {
   "cell_type": "code",
   "execution_count": 10,
   "metadata": {
    "slideshow": {
     "slide_type": "slide"
    }
   },
   "outputs": [
    {
     "data": {
      "text/plain": [
       "<Response [200]>"
      ]
     },
     "execution_count": 10,
     "metadata": {},
     "output_type": "execute_result"
    }
   ],
   "source": [
    "# get the page\n",
    "wu_page = requests.get(wu_link)\n",
    "wu_page"
   ]
  },
  {
   "cell_type": "code",
   "execution_count": 11,
   "metadata": {
    "slideshow": {
     "slide_type": "slide"
    }
   },
   "outputs": [],
   "source": [
    "wu_soup = BeautifulSoup(wu_page.content)"
   ]
  },
  {
   "cell_type": "code",
   "execution_count": 12,
   "metadata": {
    "slideshow": {
     "slide_type": "fragment"
    }
   },
   "outputs": [
    {
     "name": "stdout",
     "output_type": "stream",
     "text": [
      "<!DOCTYPE html>\n",
      "<html lang=\"en\">\n",
      " <head>\n",
      "  <meta charset=\"utf-8\"/>\n",
      "  <title>\n",
      "   Weather Underground\n",
      "  </title>\n",
      "  <base href=\"/\"/>\n",
      "  <meta content=\"width=device-width, initial-scale=1\" name=\"viewport\"/>\n",
      "  <meta content=\"IE=edge,chrome=1\" http-equiv=\"X-UA-Compatible\"/>\n",
      "  <link href=\"/bundle-next/styles.40c95bfccea351808856.css\" rel=\"stylesheet\"/>\n",
      "  <style ng-transition=\"app-root\">\n",
      "   {}  body,   p{font-size:.875rem;color:#1e2023}  :focus{outline:0!important}  a:link{color:#1088b0}  a:visited{color:#1088b0}  a:hover{color:#1088b0}  a:hover:not(.button){text-decoration:underline}  a:active{color:#1088b0}  a.button{color:#fff}  a.hook{text-decoration:underline}  a:focus,   button:focus{outline:0}  input[type=date],   input[type=datetime-local],   input[type=datetime],   input[type=email],   input[type=month],   input[type=number],   input[type=password],   input[type=search],   input[type=tel],   input[type=text],   input[type=time],   input[type=url],   input[type=week],   textarea{border-\n"
     ]
    }
   ],
   "source": [
    "print(wu_soup.prettify()[:1000])"
   ]
  },
  {
   "cell_type": "code",
   "execution_count": 13,
   "metadata": {
    "slideshow": {
     "slide_type": "fragment"
    }
   },
   "outputs": [
    {
     "data": {
      "text/plain": [
       "[]"
      ]
     },
     "execution_count": 13,
     "metadata": {},
     "output_type": "execute_result"
    }
   ],
   "source": [
    "# the table we want doesn't exist! culprit: javascript\n",
    "wu_soup.find_all('div',class_='tablesaw-sortable')"
   ]
  },
  {
   "cell_type": "code",
   "execution_count": 14,
   "metadata": {
    "slideshow": {
     "slide_type": "slide"
    }
   },
   "outputs": [
    {
     "name": "stdout",
     "output_type": "stream",
     "text": [
      "Weather Underground\n",
      "{}  body,   p{font-size:.875rem;color:#1e2023}  :focus{outline:0!important}  a:link{color:#1088b0}  a:visited{color:#1088b0}  a:hover{color:#1088b0}  a:hover:not(.button){text-decoration:underline}  a:active{color:#1088b0}  a.button{color:#fff}  a.hook{text-decoration:underline}  a:focus,   button:focus{outline:0}  input[type=date],   input[type=datetime-local],   input[type=datetime],   input[type=email],   input[type=month],   input[type=number],   input[type=password],   input[type=search],   input[type=tel],   input[type=text],   input[type=time],   input[type=url],   input[type=week],   textarea{border-radius:3px;-webkit-appearance:none;height:34px;margin:0;background:#f7f7f7}  input[type=date]:focus,   input[type=datetime-local]:focus,   input[type=datetime]:focus,   input[type=email]:focus,   input[type=month]:focus,   input[type=number]:focus,   input[type=password]:focus,   input[type=search]:focus,   input[type=tel]:focus,   input[type=text]:focus,   input\n"
     ]
    }
   ],
   "source": [
    "# get the text from the page\n",
    "wu_text = wu_soup.get_text()\n",
    "\n",
    "# clean up the whitespace\n",
    "import re\n",
    "wu_text = re.sub(r'\\n+','\\n',wu_text.strip())\n",
    "print(wu_text[:1000])"
   ]
  },
  {
   "cell_type": "markdown",
   "metadata": {
    "slideshow": {
     "slide_type": "slide"
    }
   },
   "source": [
    "### Need to actually render page to process scripts!"
   ]
  },
  {
   "cell_type": "code",
   "execution_count": 16,
   "metadata": {
    "slideshow": {
     "slide_type": "fragment"
    }
   },
   "outputs": [
    {
     "ename": "SessionNotCreatedException",
     "evalue": "Message: session not created: This version of ChromeDriver only supports Chrome version 80\n",
     "output_type": "error",
     "traceback": [
      "\u001b[0;31m---------------------------------------------------------------------------\u001b[0m",
      "\u001b[0;31mSessionNotCreatedException\u001b[0m                Traceback (most recent call last)",
      "\u001b[0;32m<ipython-input-16-1abc33bdcb5f>\u001b[0m in \u001b[0;36m<module>\u001b[0;34m()\u001b[0m\n\u001b[1;32m      7\u001b[0m \u001b[0mchrome_options\u001b[0m\u001b[0;34m.\u001b[0m\u001b[0madd_argument\u001b[0m\u001b[0;34m(\u001b[0m\u001b[0;34m\"--headless\"\u001b[0m\u001b[0;34m)\u001b[0m\u001b[0;34m\u001b[0m\u001b[0;34m\u001b[0m\u001b[0m\n\u001b[1;32m      8\u001b[0m \u001b[0;34m\u001b[0m\u001b[0m\n\u001b[0;32m----> 9\u001b[0;31m \u001b[0mdriver\u001b[0m \u001b[0;34m=\u001b[0m \u001b[0mwebdriver\u001b[0m\u001b[0;34m.\u001b[0m\u001b[0mChrome\u001b[0m\u001b[0;34m(\u001b[0m\u001b[0moptions\u001b[0m\u001b[0;34m=\u001b[0m\u001b[0mchrome_options\u001b[0m\u001b[0;34m)\u001b[0m\u001b[0;34m\u001b[0m\u001b[0;34m\u001b[0m\u001b[0m\n\u001b[0m",
      "\u001b[0;32m/Users/alexli/anaconda3/envs/alexli/lib/python3.7/site-packages/selenium/webdriver/chrome/webdriver.py\u001b[0m in \u001b[0;36m__init__\u001b[0;34m(self, executable_path, port, options, service_args, desired_capabilities, service_log_path, chrome_options, keep_alive)\u001b[0m\n\u001b[1;32m     79\u001b[0m                     \u001b[0mremote_server_addr\u001b[0m\u001b[0;34m=\u001b[0m\u001b[0mself\u001b[0m\u001b[0;34m.\u001b[0m\u001b[0mservice\u001b[0m\u001b[0;34m.\u001b[0m\u001b[0mservice_url\u001b[0m\u001b[0;34m,\u001b[0m\u001b[0;34m\u001b[0m\u001b[0;34m\u001b[0m\u001b[0m\n\u001b[1;32m     80\u001b[0m                     keep_alive=keep_alive),\n\u001b[0;32m---> 81\u001b[0;31m                 desired_capabilities=desired_capabilities)\n\u001b[0m\u001b[1;32m     82\u001b[0m         \u001b[0;32mexcept\u001b[0m \u001b[0mException\u001b[0m\u001b[0;34m:\u001b[0m\u001b[0;34m\u001b[0m\u001b[0;34m\u001b[0m\u001b[0m\n\u001b[1;32m     83\u001b[0m             \u001b[0mself\u001b[0m\u001b[0;34m.\u001b[0m\u001b[0mquit\u001b[0m\u001b[0;34m(\u001b[0m\u001b[0;34m)\u001b[0m\u001b[0;34m\u001b[0m\u001b[0;34m\u001b[0m\u001b[0m\n",
      "\u001b[0;32m/Users/alexli/anaconda3/envs/alexli/lib/python3.7/site-packages/selenium/webdriver/remote/webdriver.py\u001b[0m in \u001b[0;36m__init__\u001b[0;34m(self, command_executor, desired_capabilities, browser_profile, proxy, keep_alive, file_detector, options)\u001b[0m\n\u001b[1;32m    155\u001b[0m             warnings.warn(\"Please use FirefoxOptions to set browser profile\",\n\u001b[1;32m    156\u001b[0m                           DeprecationWarning, stacklevel=2)\n\u001b[0;32m--> 157\u001b[0;31m         \u001b[0mself\u001b[0m\u001b[0;34m.\u001b[0m\u001b[0mstart_session\u001b[0m\u001b[0;34m(\u001b[0m\u001b[0mcapabilities\u001b[0m\u001b[0;34m,\u001b[0m \u001b[0mbrowser_profile\u001b[0m\u001b[0;34m)\u001b[0m\u001b[0;34m\u001b[0m\u001b[0;34m\u001b[0m\u001b[0m\n\u001b[0m\u001b[1;32m    158\u001b[0m         \u001b[0mself\u001b[0m\u001b[0;34m.\u001b[0m\u001b[0m_switch_to\u001b[0m \u001b[0;34m=\u001b[0m \u001b[0mSwitchTo\u001b[0m\u001b[0;34m(\u001b[0m\u001b[0mself\u001b[0m\u001b[0;34m)\u001b[0m\u001b[0;34m\u001b[0m\u001b[0;34m\u001b[0m\u001b[0m\n\u001b[1;32m    159\u001b[0m         \u001b[0mself\u001b[0m\u001b[0;34m.\u001b[0m\u001b[0m_mobile\u001b[0m \u001b[0;34m=\u001b[0m \u001b[0mMobile\u001b[0m\u001b[0;34m(\u001b[0m\u001b[0mself\u001b[0m\u001b[0;34m)\u001b[0m\u001b[0;34m\u001b[0m\u001b[0;34m\u001b[0m\u001b[0m\n",
      "\u001b[0;32m/Users/alexli/anaconda3/envs/alexli/lib/python3.7/site-packages/selenium/webdriver/remote/webdriver.py\u001b[0m in \u001b[0;36mstart_session\u001b[0;34m(self, capabilities, browser_profile)\u001b[0m\n\u001b[1;32m    250\u001b[0m         parameters = {\"capabilities\": w3c_caps,\n\u001b[1;32m    251\u001b[0m                       \"desiredCapabilities\": capabilities}\n\u001b[0;32m--> 252\u001b[0;31m         \u001b[0mresponse\u001b[0m \u001b[0;34m=\u001b[0m \u001b[0mself\u001b[0m\u001b[0;34m.\u001b[0m\u001b[0mexecute\u001b[0m\u001b[0;34m(\u001b[0m\u001b[0mCommand\u001b[0m\u001b[0;34m.\u001b[0m\u001b[0mNEW_SESSION\u001b[0m\u001b[0;34m,\u001b[0m \u001b[0mparameters\u001b[0m\u001b[0;34m)\u001b[0m\u001b[0;34m\u001b[0m\u001b[0;34m\u001b[0m\u001b[0m\n\u001b[0m\u001b[1;32m    253\u001b[0m         \u001b[0;32mif\u001b[0m \u001b[0;34m'sessionId'\u001b[0m \u001b[0;32mnot\u001b[0m \u001b[0;32min\u001b[0m \u001b[0mresponse\u001b[0m\u001b[0;34m:\u001b[0m\u001b[0;34m\u001b[0m\u001b[0;34m\u001b[0m\u001b[0m\n\u001b[1;32m    254\u001b[0m             \u001b[0mresponse\u001b[0m \u001b[0;34m=\u001b[0m \u001b[0mresponse\u001b[0m\u001b[0;34m[\u001b[0m\u001b[0;34m'value'\u001b[0m\u001b[0;34m]\u001b[0m\u001b[0;34m\u001b[0m\u001b[0;34m\u001b[0m\u001b[0m\n",
      "\u001b[0;32m/Users/alexli/anaconda3/envs/alexli/lib/python3.7/site-packages/selenium/webdriver/remote/webdriver.py\u001b[0m in \u001b[0;36mexecute\u001b[0;34m(self, driver_command, params)\u001b[0m\n\u001b[1;32m    319\u001b[0m         \u001b[0mresponse\u001b[0m \u001b[0;34m=\u001b[0m \u001b[0mself\u001b[0m\u001b[0;34m.\u001b[0m\u001b[0mcommand_executor\u001b[0m\u001b[0;34m.\u001b[0m\u001b[0mexecute\u001b[0m\u001b[0;34m(\u001b[0m\u001b[0mdriver_command\u001b[0m\u001b[0;34m,\u001b[0m \u001b[0mparams\u001b[0m\u001b[0;34m)\u001b[0m\u001b[0;34m\u001b[0m\u001b[0;34m\u001b[0m\u001b[0m\n\u001b[1;32m    320\u001b[0m         \u001b[0;32mif\u001b[0m \u001b[0mresponse\u001b[0m\u001b[0;34m:\u001b[0m\u001b[0;34m\u001b[0m\u001b[0;34m\u001b[0m\u001b[0m\n\u001b[0;32m--> 321\u001b[0;31m             \u001b[0mself\u001b[0m\u001b[0;34m.\u001b[0m\u001b[0merror_handler\u001b[0m\u001b[0;34m.\u001b[0m\u001b[0mcheck_response\u001b[0m\u001b[0;34m(\u001b[0m\u001b[0mresponse\u001b[0m\u001b[0;34m)\u001b[0m\u001b[0;34m\u001b[0m\u001b[0;34m\u001b[0m\u001b[0m\n\u001b[0m\u001b[1;32m    322\u001b[0m             response['value'] = self._unwrap_value(\n\u001b[1;32m    323\u001b[0m                 response.get('value', None))\n",
      "\u001b[0;32m/Users/alexli/anaconda3/envs/alexli/lib/python3.7/site-packages/selenium/webdriver/remote/errorhandler.py\u001b[0m in \u001b[0;36mcheck_response\u001b[0;34m(self, response)\u001b[0m\n\u001b[1;32m    240\u001b[0m                 \u001b[0malert_text\u001b[0m \u001b[0;34m=\u001b[0m \u001b[0mvalue\u001b[0m\u001b[0;34m[\u001b[0m\u001b[0;34m'alert'\u001b[0m\u001b[0;34m]\u001b[0m\u001b[0;34m.\u001b[0m\u001b[0mget\u001b[0m\u001b[0;34m(\u001b[0m\u001b[0;34m'text'\u001b[0m\u001b[0;34m)\u001b[0m\u001b[0;34m\u001b[0m\u001b[0;34m\u001b[0m\u001b[0m\n\u001b[1;32m    241\u001b[0m             \u001b[0;32mraise\u001b[0m \u001b[0mexception_class\u001b[0m\u001b[0;34m(\u001b[0m\u001b[0mmessage\u001b[0m\u001b[0;34m,\u001b[0m \u001b[0mscreen\u001b[0m\u001b[0;34m,\u001b[0m \u001b[0mstacktrace\u001b[0m\u001b[0;34m,\u001b[0m \u001b[0malert_text\u001b[0m\u001b[0;34m)\u001b[0m\u001b[0;34m\u001b[0m\u001b[0;34m\u001b[0m\u001b[0m\n\u001b[0;32m--> 242\u001b[0;31m         \u001b[0;32mraise\u001b[0m \u001b[0mexception_class\u001b[0m\u001b[0;34m(\u001b[0m\u001b[0mmessage\u001b[0m\u001b[0;34m,\u001b[0m \u001b[0mscreen\u001b[0m\u001b[0;34m,\u001b[0m \u001b[0mstacktrace\u001b[0m\u001b[0;34m)\u001b[0m\u001b[0;34m\u001b[0m\u001b[0;34m\u001b[0m\u001b[0m\n\u001b[0m\u001b[1;32m    243\u001b[0m \u001b[0;34m\u001b[0m\u001b[0m\n\u001b[1;32m    244\u001b[0m     \u001b[0;32mdef\u001b[0m \u001b[0m_value_or_default\u001b[0m\u001b[0;34m(\u001b[0m\u001b[0mself\u001b[0m\u001b[0;34m,\u001b[0m \u001b[0mobj\u001b[0m\u001b[0;34m,\u001b[0m \u001b[0mkey\u001b[0m\u001b[0;34m,\u001b[0m \u001b[0mdefault\u001b[0m\u001b[0;34m)\u001b[0m\u001b[0;34m:\u001b[0m\u001b[0;34m\u001b[0m\u001b[0;34m\u001b[0m\u001b[0m\n",
      "\u001b[0;31mSessionNotCreatedException\u001b[0m: Message: session not created: This version of ChromeDriver only supports Chrome version 80\n"
     ]
    }
   ],
   "source": [
    "# need to install chromedriver\n",
    "from selenium.webdriver.chrome.options import Options\n",
    "from selenium import webdriver\n",
    "import chromedriver_binary\n",
    "\n",
    "chrome_options = Options()\n",
    "chrome_options.add_argument(\"--headless\")\n",
    "\n",
    "driver = webdriver.Chrome(options=chrome_options)"
   ]
  },
  {
   "cell_type": "code",
   "execution_count": null,
   "metadata": {
    "slideshow": {
     "slide_type": "fragment"
    }
   },
   "outputs": [],
   "source": [
    "# this will actually render the page\n",
    "driver.get(wu_link)"
   ]
  },
  {
   "cell_type": "code",
   "execution_count": null,
   "metadata": {
    "slideshow": {
     "slide_type": "fragment"
    }
   },
   "outputs": [],
   "source": [
    "# two ways to find the table we want\n",
    "wu_table = driver.find_element_by_class_name('city-history-observation')\n",
    "#wu_table = driver.find_element_by_id('history-observation-table')"
   ]
  },
  {
   "cell_type": "code",
   "execution_count": null,
   "metadata": {
    "slideshow": {
     "slide_type": "slide"
    }
   },
   "outputs": [],
   "source": [
    "# text in the table\n",
    "wu_table.text"
   ]
  },
  {
   "cell_type": "code",
   "execution_count": null,
   "metadata": {
    "slideshow": {
     "slide_type": "slide"
    }
   },
   "outputs": [],
   "source": [
    "# extracting text into a datafram\n",
    "wu_data = []\n",
    "for tr in wu_table.find_elements_by_css_selector('tr'):\n",
    "    tmp_row = []\n",
    "    for td in tr.find_elements_by_css_selector('td'):\n",
    "        tmp_row.append(td.text.strip())\n",
    "    wu_data.append(tmp_row)\n",
    "df_wu = pd.DataFrame(wu_data)\n",
    "df_wu.head()"
   ]
  },
  {
   "cell_type": "code",
   "execution_count": null,
   "metadata": {
    "slideshow": {
     "slide_type": "slide"
    }
   },
   "outputs": [],
   "source": [
    "# visualize the rendered table, still missing some stuff, need to debug\n",
    "wu_table.screenshot('./images/test1.png')"
   ]
  },
  {
   "cell_type": "code",
   "execution_count": null,
   "metadata": {},
   "outputs": [],
   "source": []
  }
 ],
 "metadata": {
  "kernelspec": {
   "display_name": "alexli",
   "language": "python",
   "name": "alexli"
  },
  "language_info": {
   "codemirror_mode": {
    "name": "ipython",
    "version": 3
   },
   "file_extension": ".py",
   "mimetype": "text/x-python",
   "name": "python",
   "nbconvert_exporter": "python",
   "pygments_lexer": "ipython3",
   "version": "3.7.6"
  }
 },
 "nbformat": 4,
 "nbformat_minor": 2
}
